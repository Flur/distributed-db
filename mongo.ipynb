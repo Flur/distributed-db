{
 "cells": [
  {
   "cell_type": "markdown",
   "id": "nervous-combine",
   "metadata": {},
   "source": [
    "**Mongo DB Notebook**"
   ]
  },
  {
   "cell_type": "code",
   "execution_count": 57,
   "id": "ready-pastor",
   "metadata": {},
   "outputs": [],
   "source": [
    "import pymongo\n",
    "import pprint\n",
    "import datetime\n",
    "from bson.json_util import dumps\n",
    "from bson.objectid import ObjectId\n",
    "from bson.dbref import DBRef\n",
    "\n",
    "\n",
    "client = pymongo.MongoClient(\"mongodb://127.0.0.1:27017\")\n",
    "db = client[\"distributed-db\"]"
   ]
  },
  {
   "cell_type": "code",
   "execution_count": 40,
   "id": "partial-essex",
   "metadata": {},
   "outputs": [],
   "source": [
    "# list could be used \n",
    "def print_cursor(cursor):\n",
    "    for doc in cursor:\n",
    "        pprint.pprint(doc)"
   ]
  },
  {
   "cell_type": "code",
   "execution_count": 41,
   "id": "widespread-recipe",
   "metadata": {},
   "outputs": [
    {
     "name": "stdout",
     "output_type": "stream",
     "text": [
      "{'_id': ObjectId('603b8cd70b05665191db5d67'),\n",
      " 'category': 'Phone',\n",
      " 'model': 'iPhone 6',\n",
      " 'price': 600,\n",
      " 'producer': 'Apple'}\n",
      "{'_id': ObjectId('603b8cd70b05665191db5d68'),\n",
      " 'category': 'TV',\n",
      " 'diagonal': '100',\n",
      " 'model': 'SmartTV',\n",
      " 'price': 6000,\n",
      " 'producer': 'Samsung'}\n",
      "{'_id': ObjectId('603b8cd70b05665191db5d69'),\n",
      " 'category': 'Watch',\n",
      " 'model': 'IWatch',\n",
      " 'price': 300,\n",
      " 'producer': 'Apple',\n",
      " 'size': 'm'}\n",
      "{'Color': 'Red',\n",
      " '_id': ObjectId('603b8cd70b05665191db5d6a'),\n",
      " 'category': 'Speaker',\n",
      " 'model': 'Sound2',\n",
      " 'price': 100,\n",
      " 'producer': 'JBL'}\n",
      "{'CPU': 'i100',\n",
      " 'GPU': 'NVidia',\n",
      " '_id': ObjectId('603b8cd70b05665191db5d6b'),\n",
      " 'category': 'Laptop',\n",
      " 'model': 'Super',\n",
      " 'price': 1000,\n",
      " 'producer': 'Dell'}\n"
     ]
    }
   ],
   "source": [
    "# 1\n",
    "db.products.insert_many([\n",
    "    {\n",
    "        \"category\" : \"Phone\",\n",
    "        \"model\" : \"iPhone 6\",\n",
    "        \"producer\" : \"Apple\",\n",
    "        \"price\" : 600\n",
    "    },\n",
    "    {\n",
    "        \"category\" : \"TV\",\n",
    "        \"model\" : \"SmartTV\",\n",
    "        \"producer\" : \"Samsung\",\n",
    "        \"diagonal\": \"100\",\n",
    "        \"price\" : 6000\n",
    "    },\n",
    "    {\n",
    "        \"category\" : \"Watch\",\n",
    "        \"model\" : \"IWatch\",\n",
    "        \"producer\" : \"Apple\",\n",
    "        \"size\": \"m\",\n",
    "        \"price\" : 300,\n",
    "    },\n",
    "    {\n",
    "        \"category\" : \"Speaker\",\n",
    "        \"model\" : \"Sound2\",\n",
    "        \"producer\" : \"JBL\",\n",
    "        \"Color\": \"Red\",\n",
    "        \"price\" : 100,\n",
    "    },\n",
    "    {\n",
    "        \"category\" : \"Laptop\",\n",
    "        \"model\" : \"Super\",\n",
    "        \"producer\" : \"Dell\",\n",
    "        \"CPU\": \"i100\",\n",
    "        \"GPU\": \"NVidia\",\n",
    "        \"price\" : 1000,\n",
    "    },\n",
    "])\n",
    "print_cursor(\n",
    "    db.products.find({})\n",
    ")"
   ]
  },
  {
   "cell_type": "code",
   "execution_count": 42,
   "id": "sweet-leader",
   "metadata": {},
   "outputs": [
    {
     "data": {
      "text/plain": [
       "'[{\"_id\": {\"$oid\": \"603b8cd70b05665191db5d67\"}, \"category\": \"Phone\", \"model\": \"iPhone 6\", \"producer\": \"Apple\", \"price\": 600}, {\"_id\": {\"$oid\": \"603b8cd70b05665191db5d68\"}, \"category\": \"TV\", \"model\": \"SmartTV\", \"producer\": \"Samsung\", \"diagonal\": \"100\", \"price\": 6000}, {\"_id\": {\"$oid\": \"603b8cd70b05665191db5d69\"}, \"category\": \"Watch\", \"model\": \"IWatch\", \"producer\": \"Apple\", \"size\": \"m\", \"price\": 300}, {\"_id\": {\"$oid\": \"603b8cd70b05665191db5d6a\"}, \"category\": \"Speaker\", \"model\": \"Sound2\", \"producer\": \"JBL\", \"Color\": \"Red\", \"price\": 100}, {\"_id\": {\"$oid\": \"603b8cd70b05665191db5d6b\"}, \"category\": \"Laptop\", \"model\": \"Super\", \"producer\": \"Dell\", \"CPU\": \"i100\", \"GPU\": \"NVidia\", \"price\": 1000}]'"
      ]
     },
     "execution_count": 42,
     "metadata": {},
     "output_type": "execute_result"
    }
   ],
   "source": [
    "# 2 Напишіть запит, який виводіть усі товари (відображення у JSON)\n",
    "cursor = db.products.find({})\n",
    "list_cur = list(cursor)\n",
    "dumps(list_cur)"
   ]
  },
  {
   "cell_type": "code",
   "execution_count": 43,
   "id": "fuzzy-connecticut",
   "metadata": {},
   "outputs": [
    {
     "data": {
      "text/plain": [
       "1"
      ]
     },
     "execution_count": 43,
     "metadata": {},
     "output_type": "execute_result"
    }
   ],
   "source": [
    "# 3 Підрахуйте скільки товарів у певної категорії\n",
    "db.products.count_documents({\"category\": \"Laptop\"})"
   ]
  },
  {
   "cell_type": "code",
   "execution_count": 132,
   "id": "light-meeting",
   "metadata": {},
   "outputs": [
    {
     "data": {
      "text/plain": [
       "5"
      ]
     },
     "execution_count": 132,
     "metadata": {},
     "output_type": "execute_result"
    }
   ],
   "source": [
    "# 4 Підрахуйте скільки є різних категорій товарів\n",
    "len(db.products.distinct(\"category\"))"
   ]
  },
  {
   "cell_type": "code",
   "execution_count": 45,
   "id": "removable-luxembourg",
   "metadata": {},
   "outputs": [
    {
     "data": {
      "text/plain": [
       "['Apple', 'Dell', 'JBL', 'Samsung']"
      ]
     },
     "execution_count": 45,
     "metadata": {},
     "output_type": "execute_result"
    }
   ],
   "source": [
    "# 5 Виведіть список всіх виробників товарів без повторів\n",
    "db.products.distinct(\"producer\")"
   ]
  },
  {
   "cell_type": "code",
   "execution_count": 46,
   "id": "characteristic-recognition",
   "metadata": {},
   "outputs": [
    {
     "name": "stdout",
     "output_type": "stream",
     "text": [
      "{'_id': ObjectId('603b8cd70b05665191db5d67'),\n",
      " 'category': 'Phone',\n",
      " 'model': 'iPhone 6',\n",
      " 'price': 600,\n",
      " 'producer': 'Apple'}\n",
      "{'CPU': 'i100',\n",
      " 'GPU': 'NVidia',\n",
      " '_id': ObjectId('603b8cd70b05665191db5d6b'),\n",
      " 'category': 'Laptop',\n",
      " 'model': 'Super',\n",
      " 'price': 1000,\n",
      " 'producer': 'Dell'}\n"
     ]
    }
   ],
   "source": [
    "# 6\n",
    "# Напишіть запити, які вибирають товари за різними критеріям і їх сукупності: \n",
    "\n",
    "#   категорія та ціна (в проміжку) - конструкція $and, \n",
    "print_cursor(\n",
    "    db.products.find({\"$and\": [{\"price\": {\"$gt\": 300}}, {\"price\": {\"$lt\": 5000}}]})\n",
    ")"
   ]
  },
  {
   "cell_type": "code",
   "execution_count": 47,
   "id": "statistical-surge",
   "metadata": {},
   "outputs": [
    {
     "name": "stdout",
     "output_type": "stream",
     "text": [
      "{'_id': ObjectId('603b8cd70b05665191db5d69'),\n",
      " 'category': 'Watch',\n",
      " 'model': 'IWatch',\n",
      " 'price': 300,\n",
      " 'producer': 'Apple',\n",
      " 'size': 'm'}\n"
     ]
    }
   ],
   "source": [
    "#   модель чи одна чи інша - конструкція $or,\n",
    "print_cursor(\n",
    "    db.products.find({\"$or\": [{\"price\": 300}, {\"price\": 50}]})\n",
    ")"
   ]
  },
  {
   "cell_type": "code",
   "execution_count": 48,
   "id": "indian-pollution",
   "metadata": {},
   "outputs": [
    {
     "name": "stdout",
     "output_type": "stream",
     "text": [
      "{'_id': ObjectId('603b8cd70b05665191db5d68'),\n",
      " 'category': 'TV',\n",
      " 'diagonal': '100',\n",
      " 'model': 'SmartTV',\n",
      " 'price': 6000,\n",
      " 'producer': 'Samsung'}\n",
      "{'Color': 'Red',\n",
      " '_id': ObjectId('603b8cd70b05665191db5d6a'),\n",
      " 'category': 'Speaker',\n",
      " 'model': 'Sound2',\n",
      " 'price': 100,\n",
      " 'producer': 'JBL'}\n"
     ]
    }
   ],
   "source": [
    "#   виробники з переліку - конструкція $in\n",
    "print_cursor(\n",
    "    db.products.find({\"producer\": {\"$in\": [\"JBL\", \"Samsung\"]}})\n",
    ")"
   ]
  },
  {
   "cell_type": "code",
   "execution_count": 49,
   "id": "civilian-wealth",
   "metadata": {},
   "outputs": [
    {
     "name": "stdout",
     "output_type": "stream",
     "text": [
      "{'_id': ObjectId('603b8cd70b05665191db5d67'),\n",
      " 'category': 'Phone',\n",
      " 'expensive': True,\n",
      " 'model': 'iPhone 6',\n",
      " 'price': 600,\n",
      " 'producer': 'AppleCalifornia'}\n",
      "{'_id': ObjectId('603b8cd70b05665191db5d69'),\n",
      " 'category': 'Watch',\n",
      " 'expensive': True,\n",
      " 'model': 'IWatch',\n",
      " 'price': 300,\n",
      " 'producer': 'AppleCalifornia',\n",
      " 'size': 'm'}\n"
     ]
    }
   ],
   "source": [
    "# 7\n",
    "# Оновить певні товари, змінивши існуючі значення і додайте нові \n",
    "# властивості (характеристики) усім товарам за певним критерієм\n",
    "db.products.update_many(\n",
    "        {\"producer\": \"Apple\"},\n",
    "        {\n",
    "        \"$set\": {\"expensive\": True, \"producer\": \"AppleCalifornia\"}\n",
    "        }\n",
    "    )\n",
    "print_cursor(\n",
    "    db.products.find({\"producer\": \"AppleCalifornia\"})\n",
    ")"
   ]
  },
  {
   "cell_type": "code",
   "execution_count": 50,
   "id": "modern-mistress",
   "metadata": {},
   "outputs": [
    {
     "name": "stdout",
     "output_type": "stream",
     "text": [
      "{'_id': ObjectId('603b8cd70b05665191db5d67'),\n",
      " 'category': 'Phone',\n",
      " 'expensive': True,\n",
      " 'model': 'iPhone 6',\n",
      " 'price': 600,\n",
      " 'producer': 'AppleCalifornia'}\n",
      "{'_id': ObjectId('603b8cd70b05665191db5d69'),\n",
      " 'category': 'Watch',\n",
      " 'expensive': True,\n",
      " 'model': 'IWatch',\n",
      " 'price': 300,\n",
      " 'producer': 'AppleCalifornia',\n",
      " 'size': 'm'}\n"
     ]
    }
   ],
   "source": [
    "# 8\n",
    "# Знайдіть товари у яких є (присутнє поле) певні властивості\n",
    "print_cursor(\n",
    "    db.products.find({\"expensive\": {\"$exists\": True}})\n",
    ")"
   ]
  },
  {
   "cell_type": "code",
   "execution_count": 51,
   "id": "corrected-mainstream",
   "metadata": {},
   "outputs": [
    {
     "name": "stdout",
     "output_type": "stream",
     "text": [
      "{'_id': ObjectId('603b8cd70b05665191db5d68'),\n",
      " 'category': 'TV',\n",
      " 'diagonal': '100',\n",
      " 'model': 'SmartTV',\n",
      " 'price': 6050,\n",
      " 'producer': 'Samsung'}\n",
      "{'CPU': 'i100',\n",
      " 'GPU': 'NVidia',\n",
      " '_id': ObjectId('603b8cd70b05665191db5d6b'),\n",
      " 'category': 'Laptop',\n",
      " 'model': 'Super',\n",
      " 'price': 1050,\n",
      " 'producer': 'Dell'}\n"
     ]
    }
   ],
   "source": [
    "#  9\n",
    "# Для знайдених товарів збільшіть їх вартість на певну суму\n",
    "db.products.update_many(\n",
    "        {\"price\": {\"$gt\": 900}},\n",
    "        {\"$inc\": {\"price\": 50}}\n",
    "    )\n",
    "print_cursor(\n",
    "    db.products.find({\"price\": {\"$gt\": 900}})\n",
    ")"
   ]
  },
  {
   "cell_type": "code",
   "execution_count": 52,
   "id": "specialized-queen",
   "metadata": {},
   "outputs": [
    {
     "name": "stdout",
     "output_type": "stream",
     "text": [
      "{'_id': ObjectId('603b8cd70b05665191db5d67'),\n",
      " 'category': 'Phone',\n",
      " 'expensive': True,\n",
      " 'model': 'iPhone 6',\n",
      " 'price': 600,\n",
      " 'producer': 'AppleCalifornia'}\n",
      "{'_id': ObjectId('603b8cd70b05665191db5d68'),\n",
      " 'category': 'TV',\n",
      " 'diagonal': '100',\n",
      " 'model': 'SmartTV',\n",
      " 'price': 6050,\n",
      " 'producer': 'Samsung'}\n",
      "{'_id': ObjectId('603b8cd70b05665191db5d69'),\n",
      " 'category': 'Watch',\n",
      " 'expensive': True,\n",
      " 'model': 'IWatch',\n",
      " 'price': 300,\n",
      " 'producer': 'AppleCalifornia',\n",
      " 'size': 'm'}\n",
      "{'Color': 'Red',\n",
      " '_id': ObjectId('603b8cd70b05665191db5d6a'),\n",
      " 'category': 'Speaker',\n",
      " 'model': 'Sound2',\n",
      " 'price': 100,\n",
      " 'producer': 'JBL'}\n",
      "{'CPU': 'i100',\n",
      " 'GPU': 'NVidia',\n",
      " '_id': ObjectId('603b8cd70b05665191db5d6b'),\n",
      " 'category': 'Laptop',\n",
      " 'model': 'Super',\n",
      " 'price': 1050,\n",
      " 'producer': 'Dell'}\n"
     ]
    }
   ],
   "source": [
    "print_cursor(\n",
    "    db.products.find({})\n",
    ")"
   ]
  },
  {
   "cell_type": "code",
   "execution_count": 60,
   "id": "considered-czech",
   "metadata": {},
   "outputs": [
    {
     "data": {
      "text/plain": [
       "<pymongo.results.InsertManyResult at 0x26599cf3380>"
      ]
     },
     "execution_count": 60,
     "metadata": {},
     "output_type": "execute_result"
    }
   ],
   "source": [
    "# Товари ви додаєте в замовлення - orders, яке містити вартість, ім'я замовника, і адресу доставки.\n",
    "# Товари (items) в замовленні (order) повинні бути представлені у вигляді references, \n",
    "# а замовник (customer) у вигляді embed\n",
    "\n",
    "# 1\n",
    "# Створіть кілька замовлень з різними наборами товарів, \n",
    "# але так щоб один з товарів був у декількох замовленнях\n",
    "db.orders.insert_many([\n",
    "    {\n",
    "        \"order_number\" : 201513,\n",
    "        \"date\" : datetime.datetime(2015, 4, 14),\n",
    "        \"total_sum\" : 6650,\n",
    "        \"customer\" : {\n",
    "            \"name\" : \"Andrii\",\n",
    "            \"surname\" : \"Petrovich\",\n",
    "            \"phones\" : [ 9876543, 1234567],\n",
    "            \"address\" : \"PTI, Peremohy 37, Kyiv, UA\"\n",
    "    },\n",
    "    \"payment\" : {\n",
    "        \"card_owner\" : \"Andrii Petrovich\",\n",
    "        \"cardId\" : 12345678\n",
    "    },\n",
    "    \"order_items_id\" : [\n",
    "        DBRef(\"products\", \"603b8cd70b05665191db5d67\"),\n",
    "        DBRef(\"products\", \"603b8cd70b05665191db5d68\")\n",
    "    ]\n",
    "    },\n",
    "    {\n",
    "        \"order_number\" : 201514,\n",
    "        \"date\" : datetime.datetime(2016, 4, 14),\n",
    "        \"total_sum\" : 400,\n",
    "        \"customer\" : {\n",
    "            \"name\" : \"Ivan\",\n",
    "            \"surname\" : \"Ivanov\",\n",
    "            \"phones\" : [ 98716543, 123456437],\n",
    "            \"address\" : \"Lviv, Svobody 27\"\n",
    "    },\n",
    "    \"payment\" : {\n",
    "        \"card_owner\" : \"Ivan Ivanov\",\n",
    "        \"cardId\" : 1234567899\n",
    "    },\n",
    "    \"order_items_id\" : [\n",
    "        DBRef(\"products\", \"603b8cd70b05665191db5d69\"),\n",
    "        DBRef(\"products\", \"603b8cd70b05665191db5d6a\")\n",
    "    ]\n",
    "    },\n",
    "    {\n",
    "        \"order_number\" : 201515,\n",
    "        \"date\" : datetime.datetime(2017, 4, 14),\n",
    "        \"total_sum\" : 1450,\n",
    "        \"customer\" : {\n",
    "            \"name\" : \"Viktor\",\n",
    "            \"surname\" : \"Radyu\",\n",
    "            \"phones\" : [ 987622543, 12345367],\n",
    "            \"address\" : \"Ostrog, Kiyvska 25/1\"\n",
    "    },\n",
    "    \"payment\" : {\n",
    "        \"card_owner\" : \"Viktor Radyu\",\n",
    "        \"cardId\" : 1123456\n",
    "    },\n",
    "    \"order_items_id\" : [\n",
    "        DBRef(\"products\", \"603b8cd70b05665191db5d69\"),\n",
    "        DBRef(\"products\", \"603b8cd70b05665191db5d6a\"),\n",
    "        DBRef(\"products\", \"603b8cd70b05665191db5d6b\")\n",
    "    ]\n",
    "    },\n",
    "\n",
    "])"
   ]
  },
  {
   "cell_type": "code",
   "execution_count": 61,
   "id": "collect-latest",
   "metadata": {},
   "outputs": [
    {
     "name": "stdout",
     "output_type": "stream",
     "text": [
      "{'_id': ObjectId('603b90d10b05665191db5d74'),\n",
      " 'customer': {'address': 'PTI, Peremohy 37, Kyiv, UA',\n",
      "              'name': 'Andrii',\n",
      "              'phones': [9876543, 1234567],\n",
      "              'surname': 'Petrovich'},\n",
      " 'date': datetime.datetime(2015, 4, 14, 0, 0),\n",
      " 'order_items_id': [DBRef('products', '603b8cd70b05665191db5d67'),\n",
      "                    DBRef('products', '603b8cd70b05665191db5d68')],\n",
      " 'order_number': 201513,\n",
      " 'payment': {'cardId': 12345678, 'card_owner': 'Andrii Petrovich'},\n",
      " 'total_sum': 6650}\n",
      "{'_id': ObjectId('603b90d10b05665191db5d75'),\n",
      " 'customer': {'address': 'Lviv, Svobody 27',\n",
      "              'name': 'Ivan',\n",
      "              'phones': [98716543, 123456437],\n",
      "              'surname': 'Ivanov'},\n",
      " 'date': datetime.datetime(2016, 4, 14, 0, 0),\n",
      " 'order_items_id': [DBRef('products', '603b8cd70b05665191db5d69'),\n",
      "                    DBRef('products', '603b8cd70b05665191db5d6a')],\n",
      " 'order_number': 201514,\n",
      " 'payment': {'cardId': 1234567899, 'card_owner': 'Ivan Ivanov'},\n",
      " 'total_sum': 400}\n",
      "{'_id': ObjectId('603b90d10b05665191db5d76'),\n",
      " 'customer': {'address': 'Ostrog, Kiyvska 25/1',\n",
      "              'name': 'Viktor',\n",
      "              'phones': [987622543, 12345367],\n",
      "              'surname': 'Radyu'},\n",
      " 'date': datetime.datetime(2017, 4, 14, 0, 0),\n",
      " 'order_items_id': [DBRef('products', '603b8cd70b05665191db5d69'),\n",
      "                    DBRef('products', '603b8cd70b05665191db5d6a'),\n",
      "                    DBRef('products', '603b8cd70b05665191db5d6b')],\n",
      " 'order_number': 201515,\n",
      " 'payment': {'cardId': 1123456, 'card_owner': 'Viktor Radyu'},\n",
      " 'total_sum': 1450}\n"
     ]
    }
   ],
   "source": [
    "# 2\n",
    "# Виведіть всі замовлення\n",
    "print_cursor(\n",
    "    db.orders.find({})\n",
    ")"
   ]
  },
  {
   "cell_type": "code",
   "execution_count": 62,
   "id": "lonely-advice",
   "metadata": {},
   "outputs": [
    {
     "name": "stdout",
     "output_type": "stream",
     "text": [
      "{'_id': ObjectId('603b90d10b05665191db5d74'),\n",
      " 'customer': {'address': 'PTI, Peremohy 37, Kyiv, UA',\n",
      "              'name': 'Andrii',\n",
      "              'phones': [9876543, 1234567],\n",
      "              'surname': 'Petrovich'},\n",
      " 'date': datetime.datetime(2015, 4, 14, 0, 0),\n",
      " 'order_items_id': [DBRef('products', '603b8cd70b05665191db5d67'),\n",
      "                    DBRef('products', '603b8cd70b05665191db5d68')],\n",
      " 'order_number': 201513,\n",
      " 'payment': {'cardId': 12345678, 'card_owner': 'Andrii Petrovich'},\n",
      " 'total_sum': 6650}\n",
      "{'_id': ObjectId('603b90d10b05665191db5d76'),\n",
      " 'customer': {'address': 'Ostrog, Kiyvska 25/1',\n",
      "              'name': 'Viktor',\n",
      "              'phones': [987622543, 12345367],\n",
      "              'surname': 'Radyu'},\n",
      " 'date': datetime.datetime(2017, 4, 14, 0, 0),\n",
      " 'order_items_id': [DBRef('products', '603b8cd70b05665191db5d69'),\n",
      "                    DBRef('products', '603b8cd70b05665191db5d6a'),\n",
      "                    DBRef('products', '603b8cd70b05665191db5d6b')],\n",
      " 'order_number': 201515,\n",
      " 'payment': {'cardId': 1123456, 'card_owner': 'Viktor Radyu'},\n",
      " 'total_sum': 1450}\n"
     ]
    }
   ],
   "source": [
    "# 3\n",
    "# Виведіть замовлення з вартістю більше певного значення\n",
    "print_cursor(\n",
    "    db.orders.find({\"total_sum\": {\"$gt\": 1400}})\n",
    ")"
   ]
  },
  {
   "cell_type": "code",
   "execution_count": 63,
   "id": "realistic-integral",
   "metadata": {},
   "outputs": [
    {
     "name": "stdout",
     "output_type": "stream",
     "text": [
      "{'_id': ObjectId('603b90d10b05665191db5d74'),\n",
      " 'customer': {'address': 'PTI, Peremohy 37, Kyiv, UA',\n",
      "              'name': 'Andrii',\n",
      "              'phones': [9876543, 1234567],\n",
      "              'surname': 'Petrovich'},\n",
      " 'date': datetime.datetime(2015, 4, 14, 0, 0),\n",
      " 'order_items_id': [DBRef('products', '603b8cd70b05665191db5d67'),\n",
      "                    DBRef('products', '603b8cd70b05665191db5d68')],\n",
      " 'order_number': 201513,\n",
      " 'payment': {'cardId': 12345678, 'card_owner': 'Andrii Petrovich'},\n",
      " 'total_sum': 6650}\n"
     ]
    }
   ],
   "source": [
    "# 4\n",
    "# Знайдіть замовлення зроблені одним замовником\n",
    "print_cursor(\n",
    "    db.orders.find({\"customer.name\": \"Andrii\", \"customer.surname\": \"Petrovich\"})\n",
    ")"
   ]
  },
  {
   "cell_type": "code",
   "execution_count": 117,
   "id": "expanded-polls",
   "metadata": {},
   "outputs": [
    {
     "name": "stdout",
     "output_type": "stream",
     "text": [
      "{'_id': ObjectId('603b90d10b05665191db5d75'),\n",
      " 'customer': {'address': 'Lviv, Svobody 27',\n",
      "              'name': 'Ivan',\n",
      "              'phones': [98716543, 123456437],\n",
      "              'surname': 'Ivanov'},\n",
      " 'date': datetime.datetime(2016, 4, 14, 0, 0),\n",
      " 'order_items_id': [DBRef('products', '603b8cd70b05665191db5d69'),\n",
      "                    DBRef('products', '603b8cd70b05665191db5d6a')],\n",
      " 'order_number': 201514,\n",
      " 'payment': {'cardId': 1234567899, 'card_owner': 'Ivan Ivanov'},\n",
      " 'total_sum': 400}\n",
      "{'_id': ObjectId('603b90d10b05665191db5d76'),\n",
      " 'customer': {'address': 'Ostrog, Kiyvska 25/1',\n",
      "              'name': 'Viktor',\n",
      "              'phones': [987622543, 12345367],\n",
      "              'surname': 'Radyu'},\n",
      " 'date': datetime.datetime(2017, 4, 14, 0, 0),\n",
      " 'order_items_id': [DBRef('products', '603b8cd70b05665191db5d69'),\n",
      "                    DBRef('products', '603b8cd70b05665191db5d6a'),\n",
      "                    DBRef('products', '603b8cd70b05665191db5d6b')],\n",
      " 'order_number': 201515,\n",
      " 'payment': {'cardId': 1123456, 'card_owner': 'Viktor Radyu'},\n",
      " 'total_sum': 1450}\n"
     ]
    }
   ],
   "source": [
    "# 5\n",
    "# Знайдіть всі замовлення з певним товаром (товарами) (шукати можна по ObjectId)\n",
    "product = db.products.find_one({\"category\": \"Watch\"})\n",
    "print_cursor(\n",
    "    db.orders.find({\"order_items_id\": DBRef(\"products\", str(product[\"_id\"]))})\n",
    ")"
   ]
  },
  {
   "cell_type": "code",
   "execution_count": 122,
   "id": "unsigned-gregory",
   "metadata": {},
   "outputs": [
    {
     "name": "stdout",
     "output_type": "stream",
     "text": [
      "{'_id': ObjectId('603b90d10b05665191db5d75'),\n",
      " 'customer': {'address': 'Lviv, Svobody 27',\n",
      "              'name': 'Ivan',\n",
      "              'phones': [98716543, 123456437],\n",
      "              'surname': 'Ivanov'},\n",
      " 'date': datetime.datetime(2016, 4, 14, 0, 0),\n",
      " 'order_items_id': [DBRef('products', '603b8cd70b05665191db5d69'),\n",
      "                    DBRef('products', '603b8cd70b05665191db5d6a'),\n",
      "                    [DBRef('products', '603b8cd70b05665191db5d67')]],\n",
      " 'order_number': 201514,\n",
      " 'payment': {'cardId': 1234567899, 'card_owner': 'Ivan Ivanov'},\n",
      " 'total_sum': 1000}\n",
      "{'_id': ObjectId('603b90d10b05665191db5d76'),\n",
      " 'customer': {'address': 'Ostrog, Kiyvska 25/1',\n",
      "              'name': 'Viktor',\n",
      "              'phones': [987622543, 12345367],\n",
      "              'surname': 'Radyu'},\n",
      " 'date': datetime.datetime(2017, 4, 14, 0, 0),\n",
      " 'order_items_id': [DBRef('products', '603b8cd70b05665191db5d69'),\n",
      "                    DBRef('products', '603b8cd70b05665191db5d6a'),\n",
      "                    DBRef('products', '603b8cd70b05665191db5d6b'),\n",
      "                    [DBRef('products', '603b8cd70b05665191db5d67')]],\n",
      " 'order_number': 201515,\n",
      " 'payment': {'cardId': 1123456, 'card_owner': 'Viktor Radyu'},\n",
      " 'total_sum': 2050}\n"
     ]
    }
   ],
   "source": [
    "# 6\n",
    "# Додайте в усі замовлення з певним товаром ще один товар і \n",
    "# збільште існуючу вартість замовлення на деяке значення Х\n",
    "new_product = db.products.find_one({\"model\": \"iPhone 6\"})\n",
    "product = db.products.find_one({\"category\": \"Watch\"})\n",
    "db.orders.update_many(\n",
    "    {\"order_items_id\": DBRef(\"products\", str(product[\"_id\"]))},\n",
    "    {\"$inc\": {\"total_sum\": new_product[\"price\"]},\n",
    "     \"$addToSet\": {\"order_items_id\": [DBRef(\"products\", str(new_product[\"_id\"]))]}\n",
    "    }\n",
    ")\n",
    "\n",
    "print_cursor(\n",
    "    db.orders.find({\"order_items_id\": DBRef(\"products\", str(product[\"_id\"]))})\n",
    ")"
   ]
  },
  {
   "cell_type": "code",
   "execution_count": 137,
   "id": "thrown-split",
   "metadata": {},
   "outputs": [
    {
     "name": "stdout",
     "output_type": "stream",
     "text": [
      "{'_id': ObjectId('603b90d10b05665191db5d76'), 'numberOfItems': 4}\n"
     ]
    }
   ],
   "source": [
    "#  7\n",
    "# Виведіть кількість товарів в певному замовленні\n",
    "print_cursor(\n",
    "    db.orders.aggregate([\n",
    "        {\"$match\": {\"order_number\": 201515}},\n",
    "        {\"$project\": { \"numberOfItems\": {\"$size\": \"$order_items_id\"}}}\n",
    "    ])\n",
    ")"
   ]
  },
  {
   "cell_type": "code",
   "execution_count": 139,
   "id": "knowing-drinking",
   "metadata": {},
   "outputs": [
    {
     "name": "stdout",
     "output_type": "stream",
     "text": [
      "{'cardId': 12345678,\n",
      " 'customer': {'address': 'PTI, Peremohy 37, Kyiv, UA',\n",
      "              'name': 'Andrii',\n",
      "              'phones': [9876543, 1234567],\n",
      "              'surname': 'Petrovich'}}\n",
      "{'cardId': 1123456,\n",
      " 'customer': {'address': 'Ostrog, Kiyvska 25/1',\n",
      "              'name': 'Viktor',\n",
      "              'phones': [987622543, 12345367],\n",
      "              'surname': 'Radyu'}}\n"
     ]
    }
   ],
   "source": [
    "# 8\n",
    "# Виведіть тільки інформацію про кастомера і номери кредитної карт, \n",
    "# для замовлень вартість яких перевищує певну суму\n",
    "print_cursor(\n",
    "    db.orders.aggregate([\n",
    "        {\"$match\": {\"total_sum\": {\"$gt\": 1400}}},\n",
    "        {\"$project\": { \"_id\": False, \"customer\": 1, \"cardId\": \"$payment.cardId\"}}\n",
    "    ])\n",
    ")"
   ]
  },
  {
   "cell_type": "code",
   "execution_count": 150,
   "id": "great-serum",
   "metadata": {},
   "outputs": [
    {
     "name": "stdout",
     "output_type": "stream",
     "text": [
      "{'_id': ObjectId('603b90d10b05665191db5d74'),\n",
      " 'customer': {'address': 'PTI, Peremohy 37, Kyiv, UA',\n",
      "              'name': 'Andrii',\n",
      "              'phones': [9876543, 1234567],\n",
      "              'surname': 'Petrovich'},\n",
      " 'date': datetime.datetime(2015, 4, 14, 0, 0),\n",
      " 'order_items_id': [],\n",
      " 'order_number': 201513,\n",
      " 'payment': {'cardId': 12345678, 'card_owner': 'Andrii Petrovich'},\n",
      " 'total_sum': 6650}\n"
     ]
    }
   ],
   "source": [
    "#  9 \n",
    "# Видаліть товар з замовлень, зроблених за певний період дат\n",
    "db.orders.update_many(\n",
    "    {\"$and\": [{\"date\": {\"$gt\": datetime.datetime(2013, 4, 13)}}, {\"date\": {\"$lt\": datetime.datetime(2016, 1, 14)}}]},\n",
    "    {\"$set\": {\"order_items_id\": []}}\n",
    ")\n",
    "\n",
    "print_cursor(\n",
    "    db.orders.find({\"$and\": [{\"date\": {\"$gt\": datetime.datetime(2013, 4, 13)}}, {\"date\": {\"$lt\": datetime.datetime(2016, 1, 14)}}]})\n",
    ")"
   ]
  },
  {
   "cell_type": "code",
   "execution_count": 152,
   "id": "pregnant-oasis",
   "metadata": {},
   "outputs": [
    {
     "name": "stdout",
     "output_type": "stream",
     "text": [
      "{'_id': ObjectId('603b90d10b05665191db5d74'),\n",
      " 'customer': {'address': 'PTI, Peremohy 37, Kyiv, UA',\n",
      "              'name': 'Andrii',\n",
      "              'phones': [9876543, 1234567],\n",
      "              'surname': 'NewSurname'},\n",
      " 'date': datetime.datetime(2015, 4, 14, 0, 0),\n",
      " 'order_items_id': [],\n",
      " 'order_number': 201513,\n",
      " 'payment': {'cardId': 12345678, 'card_owner': 'Andrii Petrovich'},\n",
      " 'total_sum': 6650}\n",
      "{'_id': ObjectId('603b90d10b05665191db5d75'),\n",
      " 'customer': {'address': 'Lviv, Svobody 27',\n",
      "              'name': 'Ivan',\n",
      "              'phones': [98716543, 123456437],\n",
      "              'surname': 'NewSurname'},\n",
      " 'date': datetime.datetime(2016, 4, 14, 0, 0),\n",
      " 'order_items_id': [DBRef('products', '603b8cd70b05665191db5d69'),\n",
      "                    DBRef('products', '603b8cd70b05665191db5d6a'),\n",
      "                    [DBRef('products', '603b8cd70b05665191db5d67')]],\n",
      " 'order_number': 201514,\n",
      " 'payment': {'cardId': 1234567899, 'card_owner': 'Ivan Ivanov'},\n",
      " 'total_sum': 1000}\n",
      "{'_id': ObjectId('603b90d10b05665191db5d76'),\n",
      " 'customer': {'address': 'Ostrog, Kiyvska 25/1',\n",
      "              'name': 'Viktor',\n",
      "              'phones': [987622543, 12345367],\n",
      "              'surname': 'NewSurname'},\n",
      " 'date': datetime.datetime(2017, 4, 14, 0, 0),\n",
      " 'order_items_id': [DBRef('products', '603b8cd70b05665191db5d69'),\n",
      "                    DBRef('products', '603b8cd70b05665191db5d6a'),\n",
      "                    DBRef('products', '603b8cd70b05665191db5d6b'),\n",
      "                    [DBRef('products', '603b8cd70b05665191db5d67')]],\n",
      " 'order_number': 201515,\n",
      " 'payment': {'cardId': 1123456, 'card_owner': 'Viktor Radyu'},\n",
      " 'total_sum': 2050}\n"
     ]
    }
   ],
   "source": [
    "# 10\n",
    "# Перейменуйте у всіх замовлення ім'я (прізвище) замовника\n",
    "db.orders.update_many(\n",
    "    {},\n",
    "    {\"$set\": {\"customer.surname\": \"NewSurname\"}}\n",
    ")\n",
    "\n",
    "print_cursor(\n",
    "    db.orders.find()\n",
    ")"
   ]
  },
  {
   "cell_type": "code",
   "execution_count": 176,
   "id": "norman-bidding",
   "metadata": {},
   "outputs": [
    {
     "data": {
      "text/plain": [
       "Collection(Database(MongoClient(host=['127.0.0.1:27017'], document_class=dict, tz_aware=False, connect=True), 'distributed-db'), 'comments')"
      ]
     },
     "execution_count": 176,
     "metadata": {},
     "output_type": "execute_result"
    }
   ],
   "source": [
    "# Створіть Сapped collection яка б містила 5 останніх відгуків на наш інтернет-магазин. \n",
    "# Структуру запису визначіть самостійно.\n",
    "db.create_collection('comments', capped=True, max=5, size=1024)"
   ]
  },
  {
   "cell_type": "code",
   "execution_count": 180,
   "id": "economic-basket",
   "metadata": {},
   "outputs": [
    {
     "name": "stdout",
     "output_type": "stream",
     "text": [
      "{'_id': ObjectId('603bc6fa0b05665191db5dba'),\n",
      " 'author': 'Ivan',\n",
      " 'comment_text': 'Good thing'}\n",
      "{'_id': ObjectId('603bc6fa0b05665191db5dbb'),\n",
      " 'author': 'Slava',\n",
      " 'comment_text': 'Super bad thing'}\n",
      "{'_id': ObjectId('603bc6fa0b05665191db5dbc'),\n",
      " 'author': 'Victor',\n",
      " 'comment_text': 'Nice!'}\n",
      "{'_id': ObjectId('603bc6fa0b05665191db5dbd'),\n",
      " 'author': 'John',\n",
      " 'comment_text': 'Very very bad'}\n",
      "{'_id': ObjectId('603bc6fa0b05665191db5dbe'),\n",
      " 'author': 'Merry',\n",
      " 'comment_text': 'Perfect!!'}\n"
     ]
    }
   ],
   "source": [
    "# Перевірте що при досягненні обмеження старі відгуки будуть затиратись\n",
    "db.comments.insert_many([\n",
    "    {\n",
    "        \"author\": \"Ivan\",\n",
    "        \"comment_text\": \"Good thing\"\n",
    "    },\n",
    "    {\n",
    "        \"author\": \"Slava\",\n",
    "        \"comment_text\": \"Super bad thing\"\n",
    "    },\n",
    "    {\n",
    "        \"author\": \"Victor\",\n",
    "        \"comment_text\": \"Nice!\"\n",
    "    },\n",
    "    {\n",
    "        \"author\": \"John\",\n",
    "        \"comment_text\": \"Very very bad\"\n",
    "    },\n",
    "    {\n",
    "        \"author\": \"Merry\",\n",
    "        \"comment_text\": \"Perfect!!\"\n",
    "    },\n",
    "])\n",
    "print_cursor(\n",
    "    db.comments.find({})\n",
    ")"
   ]
  },
  {
   "cell_type": "code",
   "execution_count": 184,
   "id": "boxed-license",
   "metadata": {},
   "outputs": [
    {
     "name": "stdout",
     "output_type": "stream",
     "text": [
      "{'_id': ObjectId('603bc6fa0b05665191db5dbb'),\n",
      " 'author': 'Slava',\n",
      " 'comment_text': 'Super bad thing'}\n",
      "{'_id': ObjectId('603bc6fa0b05665191db5dbc'),\n",
      " 'author': 'Victor',\n",
      " 'comment_text': 'Nice!'}\n",
      "{'_id': ObjectId('603bc6fa0b05665191db5dbd'),\n",
      " 'author': 'John',\n",
      " 'comment_text': 'Very very bad'}\n",
      "{'_id': ObjectId('603bc6fa0b05665191db5dbe'),\n",
      " 'author': 'Merry',\n",
      " 'comment_text': 'Perfect!!'}\n",
      "{'_id': ObjectId('603bc7040b05665191db5dbf'),\n",
      " 'author': 'Kate',\n",
      " 'comment_text': 'Brilliant'}\n"
     ]
    },
    {
     "data": {
      "text/plain": [
       "5"
      ]
     },
     "execution_count": 184,
     "metadata": {},
     "output_type": "execute_result"
    }
   ],
   "source": [
    "db.comments.insert_one ({\n",
    "        \"author\": \"Kate\",\n",
    "        \"comment_text\": \"Brilliant\"\n",
    "    })\n",
    "print_cursor(\n",
    "    db.comments.find({})\n",
    ")\n",
    "db.comments.count_documents({})"
   ]
  }
 ],
 "metadata": {
  "kernelspec": {
   "display_name": "Python 3",
   "language": "python",
   "name": "python3"
  },
  "language_info": {
   "codemirror_mode": {
    "name": "ipython",
    "version": 3
   },
   "file_extension": ".py",
   "mimetype": "text/x-python",
   "name": "python",
   "nbconvert_exporter": "python",
   "pygments_lexer": "ipython3",
   "version": "3.8.8"
  }
 },
 "nbformat": 4,
 "nbformat_minor": 5
}
