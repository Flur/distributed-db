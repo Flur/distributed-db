{
 "cells": [
  {
   "cell_type": "code",
   "execution_count": 13,
   "id": "manual-office",
   "metadata": {},
   "outputs": [
    {
     "data": {
      "text/plain": [
       "Redis<ConnectionPool<Connection<host=127.0.0.1,port=6379,db=0>>>"
      ]
     },
     "execution_count": 13,
     "metadata": {},
     "output_type": "execute_result"
    }
   ],
   "source": [
    "import redis\n",
    "\n",
    "r = redis.Redis(host='127.0.0.1', port=6379, db=0)\n",
    "r"
   ]
  },
  {
   "cell_type": "markdown",
   "id": "wired-cartoon",
   "metadata": {},
   "source": [
    "Завдання\n",
    "\n",
    "На основі базових структур Redis змоделюйте  Shopping cart, де зберігається інформація про замовлення користувачів.\n",
    "Shopping cart має включати:\n",
    "- ідентифікатор замовлення\n",
    "- інформацію про замовника (прізвище, ім’я, логін)\n",
    "- товари в замовленні та їх кількість, \n",
    "- вартість замовлення,\n",
    "- статус замовлення (In Progress -> Waiting for payment -> Paid | Canceled).\n",
    "\n",
    "По замовленню необхідно мати можливість робити наступні запити:\n",
    "Замовлення по Id\n",
    "Всі ідентифікатори замовлення статус яких Waiting for payment\n",
    "Всі ідентифікатори замовлення певного замовника\n",
    "Всі ідентифікатори замовлення певного замовника з можливістю вказати статус для пошуку\n"
   ]
  },
  {
   "cell_type": "code",
   "execution_count": 49,
   "id": "pharmaceutical-civilization",
   "metadata": {},
   "outputs": [
    {
     "data": {
      "text/plain": [
       "1"
      ]
     },
     "execution_count": 49,
     "metadata": {},
     "output_type": "execute_result"
    }
   ],
   "source": [
    "order_status = {\"In Progress\": \"1\", \"Waiting for payment\": \"2\", \"Paid\": \"3\", \"Canceled\": \"4\"}\n",
    "\n",
    "order_1 = {\"id\": 1, \"client_name\": \"Ivan\", \"client_surname\": \"Popov\", \"login\": \"ipopov\", \"price\": \"500\", \"status\": \"2\"}\n",
    "order_2 = {\"id\": 2, \"client_name\": \"Victor\", \n",
    "           \"client_surname\": \"Fedorov\", \"login\": \"vfedorov\", \"price\": \"100\", \"status\": \"2\"}\n",
    "r.hset('order:1', mapping=order_1)\n",
    "r.hset('order:2', mapping=order_2)\n",
    "\n",
    "# key is product_id, value is qty\n",
    "products_in_order_1 = {\"1\": 2, \"2\": 2}\n",
    "products_in_order_2 = {\"4\": 10}\n",
    "r.hset(\"order:1:products\", mapping=products_in_order_1)\n",
    "r.hset(\"order:2:products\", mapping=products_in_order_2)\n",
    "\n",
    "waiting_orders = [1, 2] \n",
    "r.sadd('orders_by_status:2', *waiting_orders)\n",
    "\n",
    "r.sadd('orders_by_client:ipopov', 1)\n",
    "r.sadd('orders_by_client:vfedorov', 2)\n",
    "\n",
    "\n",
    "r.sadd('orders_by_client:ipopov:' + order_status[\"Waiting for payment\"], 1)\n",
    "r.sadd('orders_by_client:vfedorov:' + order_status[\"Waiting for payment\"], 2)"
   ]
  },
  {
   "cell_type": "code",
   "execution_count": 33,
   "id": "psychological-fireplace",
   "metadata": {},
   "outputs": [
    {
     "data": {
      "text/plain": [
       "{b'client_name': b'Ivan',\n",
       " b'client_surname': b'Popov',\n",
       " b'login': b'ipopov',\n",
       " b'price': b'500',\n",
       " b'status': b'1'}"
      ]
     },
     "execution_count": 33,
     "metadata": {},
     "output_type": "execute_result"
    }
   ],
   "source": [
    "# Замовлення по Id\n",
    "order_id = str(1)\n",
    "r.hgetall(\"order:\" + order_id)"
   ]
  },
  {
   "cell_type": "code",
   "execution_count": 48,
   "id": "applied-malpractice",
   "metadata": {},
   "outputs": [
    {
     "data": {
      "text/plain": [
       "{b'1', b'2'}"
      ]
     },
     "execution_count": 48,
     "metadata": {},
     "output_type": "execute_result"
    }
   ],
   "source": [
    "# Всі ідентифікатори замовлення статус яких Waiting for payment\n",
    "r.smembers('orders_by_status:' + order_status[\"Waiting for payment\"])"
   ]
  },
  {
   "cell_type": "code",
   "execution_count": 44,
   "id": "unable-brighton",
   "metadata": {},
   "outputs": [
    {
     "data": {
      "text/plain": [
       "{b'1'}"
      ]
     },
     "execution_count": 44,
     "metadata": {},
     "output_type": "execute_result"
    }
   ],
   "source": [
    "# Всі ідентифікатори замовлення певного замовника\n",
    "r.smembers('orders_by_client:' + 'ipopov')"
   ]
  },
  {
   "cell_type": "code",
   "execution_count": 51,
   "id": "fiscal-collins",
   "metadata": {},
   "outputs": [
    {
     "data": {
      "text/plain": [
       "{b'1'}"
      ]
     },
     "execution_count": 51,
     "metadata": {},
     "output_type": "execute_result"
    }
   ],
   "source": [
    "# Всі ідентифікатори замовлення певного замовника з можливістю вказати статус для пошуку\n",
    "r.smembers('orders_by_client:' + 'ipopov' \":\" + order_status[\"Waiting for payment\"])"
   ]
  },
  {
   "cell_type": "code",
   "execution_count": 52,
   "id": "noticed-banana",
   "metadata": {},
   "outputs": [
    {
     "data": {
      "text/plain": [
       "[b'orders_by_client:ipopov:2',\n",
       " b'order:1:products',\n",
       " b'order:2:products',\n",
       " b'order_status',\n",
       " b'order:2',\n",
       " b'orders_by_client:ipopov',\n",
       " b'foo:test',\n",
       " b'orders_by_status:2',\n",
       " b'orders_by_client:vfedorov:2',\n",
       " b'orders_by_client:vfedorov',\n",
       " b'foo',\n",
       " b'foo:test2',\n",
       " b'order:1']"
      ]
     },
     "execution_count": 52,
     "metadata": {},
     "output_type": "execute_result"
    }
   ],
   "source": [
    "r.keys(\"*\")"
   ]
  }
 ],
 "metadata": {
  "kernelspec": {
   "display_name": "Python 3",
   "language": "python",
   "name": "python3"
  },
  "language_info": {
   "codemirror_mode": {
    "name": "ipython",
    "version": 3
   },
   "file_extension": ".py",
   "mimetype": "text/x-python",
   "name": "python",
   "nbconvert_exporter": "python",
   "pygments_lexer": "ipython3",
   "version": "3.8.8"
  }
 },
 "nbformat": 4,
 "nbformat_minor": 5
}
