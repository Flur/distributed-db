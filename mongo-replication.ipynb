{
 "cells": [
  {
   "cell_type": "markdown",
   "id": "nervous-combine",
   "metadata": {},
   "source": [
    "**Mongo DB Notebook**"
   ]
  },
  {
   "cell_type": "code",
   "execution_count": null,
   "id": "c4966e40",
   "metadata": {},
   "outputs": [],
   "source": [
    "\n",
    "# docker network create my-mongo-cluster\n",
    "\n",
    "# docker run --name mongo1 -d --net my-mongo-cluster -p 9042:9042 mongo --replSet \"rs0\" --port 9042\n",
    "# docker run --name mongo2 -d --net my-mongo-cluster -p 9142:9142 mongo --replSet \"rs0\" --port 9142\n",
    "# docker run --name mongo3 -d --net my-mongo-cluster -p 9242:9242 mongo --replSet \"rs0\" --port 9242\n",
    "    \n",
    "    \n",
    "# docker exec -it mongo1 mongo --port 9042\n",
    "# config = {\n",
    "#     \"_id\" : \"rs0\", \n",
    "#     \"members\" : [\n",
    "#         {\"_id\" : 0,\"host\" : \"mongo1:9042\"},\n",
    "#         {\"_id\" : 1,\"host\" : \"mongo2:9142\"},\n",
    "#         {\"_id\" : 2,\"host\" : \"mongo3:9242\"}]\n",
    "# }\n",
    "# rs.initiate(config)\n",
    "# rs.status() \n",
    "\n"
   ]
  },
  {
   "cell_type": "code",
   "execution_count": 65,
   "id": "ready-pastor",
   "metadata": {},
   "outputs": [],
   "source": [
    "import pymongo\n",
    "import pprint\n",
    "import datetime\n",
    "from bson.json_util import dumps\n",
    "from bson.objectid import ObjectId\n",
    "from bson.dbref import DBRef\n",
    "\n",
    "\n",
    "client = pymongo.MongoClient(host=['localhost:9042'], replicaSet='rs0')\n",
    "db = client[\"distributed-db\"]"
   ]
  },
  {
   "cell_type": "code",
   "execution_count": 66,
   "id": "partial-essex",
   "metadata": {},
   "outputs": [],
   "source": [
    "# list could be used \n",
    "def print_cursor(cursor):\n",
    "    for doc in cursor:\n",
    "        pprint.pprint(doc)"
   ]
  },
  {
   "cell_type": "code",
   "execution_count": 67,
   "id": "da23c405",
   "metadata": {},
   "outputs": [
    {
     "name": "stdout",
     "output_type": "stream",
     "text": [
      "{'w': 0}\n",
      "False\n"
     ]
    }
   ],
   "source": [
    "# Продемонструвати запис даних на primary node з різними Write Concern Levels \n",
    "\n",
    "# Unacknowledged\n",
    "write_concern = pymongo.write_concern.WriteConcern(w=0)\n",
    "\n",
    "replicas = db.replicas.with_options(write_concern=write_concern)\n",
    "\n",
    "insert_one_result = replicas.insert_one({\"unacknowledged\": 1})\n",
    "\n",
    "print(write_concern.document)\n",
    "print(insert_one_result.acknowledged)"
   ]
  },
  {
   "cell_type": "code",
   "execution_count": 68,
   "id": "95cee1b6",
   "metadata": {},
   "outputs": [
    {
     "name": "stdout",
     "output_type": "stream",
     "text": [
      "{'w': 1}\n",
      "True\n"
     ]
    }
   ],
   "source": [
    "# Acknowledged\n",
    "write_concern = pymongo.write_concern.WriteConcern(w=1)\n",
    "\n",
    "replicas = db.replicas.with_options(write_concern=write_concern)\n",
    "\n",
    "insert_one_result = replicas.insert_one({\"acknowledged\": 1})\n",
    "\n",
    "print(write_concern.document)\n",
    "print(insert_one_result.acknowledged)"
   ]
  },
  {
   "cell_type": "code",
   "execution_count": 69,
   "id": "0833fa03",
   "metadata": {},
   "outputs": [
    {
     "name": "stdout",
     "output_type": "stream",
     "text": [
      "{'j': True, 'w': 1}\n",
      "True\n"
     ]
    }
   ],
   "source": [
    "# Journaled\n",
    "\n",
    "write_concern = pymongo.write_concern.WriteConcern(w=1, j=True)\n",
    "\n",
    "replicas = db.replicas.with_options(write_concern=write_concern)\n",
    "\n",
    "insert_one_result = replicas.insert_one({\"journaled\": 1})\n",
    "\n",
    "print(write_concern.document)\n",
    "print(insert_one_result.acknowledged)"
   ]
  },
  {
   "cell_type": "code",
   "execution_count": 70,
   "id": "929eacd2",
   "metadata": {},
   "outputs": [
    {
     "name": "stdout",
     "output_type": "stream",
     "text": [
      "{'w': 3}\n",
      "True\n"
     ]
    }
   ],
   "source": [
    "# AcknowledgedReplica\n",
    "\n",
    "write_concern = pymongo.write_concern.WriteConcern(w=3)\n",
    "\n",
    "replicas = db.replicas.with_options(write_concern=write_concern)\n",
    "\n",
    "insert_one_result = replicas.insert_one({\"AcknowledgedReplica\": 1})\n",
    "\n",
    "print(write_concern.document)\n",
    "print(insert_one_result.acknowledged)"
   ]
  },
  {
   "cell_type": "code",
   "execution_count": 71,
   "id": "e8302a21",
   "metadata": {},
   "outputs": [
    {
     "name": "stdout",
     "output_type": "stream",
     "text": [
      "Primary()\n",
      "{'_id': ObjectId('60698134e006941af7c2d813'), 'unacknowledged': 1}\n",
      "{'_id': ObjectId('60698176e006941af7c2d814'), 'acknowledged': 1}\n",
      "{'_id': ObjectId('60698178e006941af7c2d815'), 'journaled': 1}\n",
      "{'AcknowledgedReplica': 1, '_id': ObjectId('6069817ce006941af7c2d816')}\n"
     ]
    }
   ],
   "source": [
    "# Продемонструвати Read Preference Modes: читання з \n",
    "# primary\n",
    "\n",
    "print(client.read_preference)\n",
    "\n",
    "print_cursor(db.replicas.find({}))"
   ]
  },
  {
   "cell_type": "code",
   "execution_count": 72,
   "id": "7ff8c9a5",
   "metadata": {},
   "outputs": [
    {
     "name": "stdout",
     "output_type": "stream",
     "text": [
      "{'_id': ObjectId('60698134e006941af7c2d813'), 'unacknowledged': 1}\n",
      "{'_id': ObjectId('60698176e006941af7c2d814'), 'acknowledged': 1}\n",
      "{'_id': ObjectId('60698178e006941af7c2d815'), 'journaled': 1}\n",
      "{'AcknowledgedReplica': 1, '_id': ObjectId('6069817ce006941af7c2d816')}\n"
     ]
    }
   ],
   "source": [
    "# secondary node \n",
    "secondary_client = pymongo.MongoClient(host=['localhost:9042'], replicaSet='rs0', readPreference='secondary')\n",
    "secondary_db = secondary_client[\"distributed-db\"]\n",
    "secondary_client.read_preference\n",
    "\n",
    "print_cursor(secondary_db.replicas.find({}))"
   ]
  },
  {
   "cell_type": "code",
   "execution_count": 86,
   "id": "398ef092",
   "metadata": {},
   "outputs": [
    {
     "name": "stdout",
     "output_type": "stream",
     "text": [
      "CONTAINER ID   IMAGE     COMMAND                  CREATED          STATUS          PORTS                               NAMES\n",
      "010dd273632f   mongo     \"docker-entrypoint.s…\"   50 minutes ago   Up 3 minutes    0.0.0.0:9242->9242/tcp, 27017/tcp   mongo3\n",
      "0ac55ae6a20d   mongo     \"docker-entrypoint.s…\"   50 minutes ago   Up 50 minutes   0.0.0.0:9142->9142/tcp, 27017/tcp   mongo2\n",
      "048c2ec7b8e9   mongo     \"docker-entrypoint.s…\"   55 minutes ago   Up 55 minutes   0.0.0.0:9042->9042/tcp, 27017/tcp   mongo1\n"
     ]
    }
   ],
   "source": [
    "!docker container ls"
   ]
  },
  {
   "cell_type": "code",
   "execution_count": 87,
   "id": "cdacd601",
   "metadata": {},
   "outputs": [
    {
     "name": "stdout",
     "output_type": "stream",
     "text": [
      "mongo3\r\n"
     ]
    }
   ],
   "source": [
    "# Спробувати зробити запис з однією відключеною нодою та write concern рівнім 3 та нескінченім таймаутом. \n",
    "# Спробувати під час таймаута включити відключену ноду \n",
    "!docker stop mongo3"
   ]
  },
  {
   "cell_type": "code",
   "execution_count": 74,
   "id": "51a64ece",
   "metadata": {},
   "outputs": [
    {
     "name": "stdout",
     "output_type": "stream",
     "text": [
      "{'w': 3}\n",
      "True\n"
     ]
    }
   ],
   "source": [
    "\n",
    "write_concern = pymongo.write_concern.WriteConcern(w=3, wtimeout=None)\n",
    "\n",
    "replicas = db.replicas.with_options(write_concern=write_concern)\n",
    "\n",
    "insert_one_result = replicas.insert_one({\"WithTimeout\": 1})\n",
    "\n",
    "print(write_concern.document)\n",
    "print(insert_one_result.acknowledged)\n"
   ]
  },
  {
   "cell_type": "code",
   "execution_count": 88,
   "id": "66a1826e",
   "metadata": {},
   "outputs": [
    {
     "name": "stdout",
     "output_type": "stream",
     "text": [
      "mongo3\r\n"
     ]
    }
   ],
   "source": [
    "!docker container start mongo3"
   ]
  },
  {
   "cell_type": "code",
   "execution_count": 89,
   "id": "515a7718",
   "metadata": {},
   "outputs": [
    {
     "name": "stdout",
     "output_type": "stream",
     "text": [
      "mongo3\r\n"
     ]
    }
   ],
   "source": [
    "# Аналогічно попередньому пункту, але задати скінченний таймаут та дочекатись його закінчення. \n",
    "# Перевірити чи данні записались і чи доступні на читання з рівнем readConcern: “majority”\n",
    "!docker stop mongo3"
   ]
  },
  {
   "cell_type": "code",
   "execution_count": 80,
   "id": "084b83b7",
   "metadata": {},
   "outputs": [
    {
     "name": "stdout",
     "output_type": "stream",
     "text": [
      "timeout\n",
      "{'wtimeout': 5000, 'w': 3}\n",
      "True\n"
     ]
    }
   ],
   "source": [
    "# Аналогічно попередньому пункту, але задати скінченний таймаут та дочекатись його закінчення. \n",
    "# Перевірити чи данні записались і чи доступні на читання з рівнем readConcern: “majority”\n",
    "\n",
    "write_concern = pymongo.write_concern.WriteConcern(w=3, wtimeout=5000)\n",
    "read_concern = pymongo.read_concern.ReadConcern(level='majority')\n",
    "\n",
    "replicas = db.replicas.with_options(write_concern=write_concern, read_concern=read_concern)\n",
    "\n",
    "try:\n",
    "    insert_one_result = replicas.insert_one({\"WithTimeout\": 5000})\n",
    "except pymongo.errors.WTimeoutError:\n",
    "    print('timeout')\n",
    "\n",
    "print(write_concern.document)\n",
    "\n",
    "print(insert_one_result.acknowledged)"
   ]
  },
  {
   "cell_type": "code",
   "execution_count": 90,
   "id": "2b9e50b7",
   "metadata": {},
   "outputs": [
    {
     "name": "stdout",
     "output_type": "stream",
     "text": [
      "mongo3\r\n"
     ]
    }
   ],
   "source": [
    "!docker container start mongo3"
   ]
  },
  {
   "cell_type": "code",
   "execution_count": 83,
   "id": "e7bd939e",
   "metadata": {},
   "outputs": [
    {
     "name": "stdout",
     "output_type": "stream",
     "text": [
      "majority\n",
      "{'WithTimeout': 5000, '_id': ObjectId('60698bd9e006941af7c2d81d')}\n"
     ]
    }
   ],
   "source": [
    "# Перевірити чи данні записались і чи доступні на читання з рівнем readConcern: “majority”\n",
    "print(read_concern.level)\n",
    "\n",
    "print_cursor(replicas.find({\"WithTimeout\": 5000}))"
   ]
  },
  {
   "cell_type": "code",
   "execution_count": 93,
   "id": "fd50ede9",
   "metadata": {},
   "outputs": [
    {
     "data": {
      "text/plain": [
       "('mongo1', 9042)"
      ]
     },
     "execution_count": 93,
     "metadata": {},
     "output_type": "execute_result"
    }
   ],
   "source": [
    "# Продемонстрував перевибори primary node в відключивши поточний primary (Replica Set Elections) - \n",
    "client.primary"
   ]
  },
  {
   "cell_type": "code",
   "execution_count": 101,
   "id": "d1bf8cca",
   "metadata": {},
   "outputs": [
    {
     "name": "stdout",
     "output_type": "stream",
     "text": [
      "mongo1\r\n"
     ]
    }
   ],
   "source": [
    "!docker stop mongo1"
   ]
  },
  {
   "cell_type": "code",
   "execution_count": 102,
   "id": "4730d990",
   "metadata": {},
   "outputs": [
    {
     "name": "stdout",
     "output_type": "stream",
     "text": [
      "True\n"
     ]
    }
   ],
   "source": [
    "insert_one_result = db.replicas.insert_one({\"NewPrimary\": 2})\n",
    "print(insert_one_result.acknowledged)"
   ]
  },
  {
   "cell_type": "code",
   "execution_count": 103,
   "id": "afb66bd0",
   "metadata": {},
   "outputs": [
    {
     "name": "stdout",
     "output_type": "stream",
     "text": [
      "mongo1\n",
      "('mongo2', 9142)\n",
      "{'NewPrimary': 2, '_id': ObjectId('6069900fe006941af7c2d820')}\n"
     ]
    }
   ],
   "source": [
    "# і що після відновлення роботи старої primary на неї реплікуються нові дані, які з'явилися під час її простою\n",
    "!docker container start mongo1\n",
    "\n",
    "print(client.primary)\n",
    "\n",
    "read_concern = pymongo.read_concern.ReadConcern(level='local')\n",
    "\n",
    "replicas = db.replicas.with_options(read_concern=read_concern)\n",
    "\n",
    "print_cursor(replicas.find({\"NewPrimary\": 2}))"
   ]
  },
  {
   "cell_type": "code",
   "execution_count": 117,
   "id": "4e0bae42",
   "metadata": {},
   "outputs": [
    {
     "data": {
      "text/plain": [
       "('mongo2', 9142)"
      ]
     },
     "execution_count": 117,
     "metadata": {},
     "output_type": "execute_result"
    }
   ],
   "source": [
    "client.primary"
   ]
  },
  {
   "cell_type": "code",
   "execution_count": null,
   "id": "b46190be",
   "metadata": {},
   "outputs": [],
   "source": [
    "# Привести кластер до неконсистентного стану користуючись моментом часу коли \n",
    "# primary node не відразу помічає відсутність secondary node "
   ]
  },
  {
   "cell_type": "code",
   "execution_count": 118,
   "id": "1003cab5",
   "metadata": {},
   "outputs": [
    {
     "name": "stdout",
     "output_type": "stream",
     "text": [
      "mongo2\r\n"
     ]
    }
   ],
   "source": [
    "!docker stop mongo2"
   ]
  },
  {
   "cell_type": "code",
   "execution_count": 119,
   "id": "6279cbac",
   "metadata": {},
   "outputs": [
    {
     "data": {
      "text/plain": [
       "('mongo1', 9042)"
      ]
     },
     "execution_count": 119,
     "metadata": {},
     "output_type": "execute_result"
    }
   ],
   "source": [
    "client.primary"
   ]
  },
  {
   "cell_type": "code",
   "execution_count": 120,
   "id": "eeed5569",
   "metadata": {},
   "outputs": [
    {
     "name": "stdout",
     "output_type": "stream",
     "text": [
      "mongo3\n",
      "{'IncosistentPrimary': 1, '_id': ObjectId('6069bb8fe006941af7c2d824')}\n"
     ]
    }
   ],
   "source": [
    "!docker stop mongo3\n",
    "\n",
    "import time \n",
    "time.sleep(2)\n",
    "\n",
    "# відключити останню secondary node та протягом 5 сек. на мастері записати значення (з w:1) і перевірити, що воно записалось\n",
    "\n",
    "client = pymongo.MongoClient(host=['localhost:9042'], replicaSet='rs0')\n",
    "db = client[\"distributed-db\"]\n",
    "\n",
    "write_concern = pymongo.write_concern.WriteConcern(w=1)\n",
    "\n",
    "replicas = db.replicas.with_options(write_concern=write_concern)\n",
    "insert_one_result = replicas.insert_one({\"IncosistentPrimary\": 1})\n",
    "\n",
    "print_cursor(replicas.find({\"IncosistentPrimary\": 1}))"
   ]
  },
  {
   "cell_type": "code",
   "execution_count": 123,
   "id": "96a026bc",
   "metadata": {},
   "outputs": [
    {
     "name": "stdout",
     "output_type": "stream",
     "text": [
      "{'IncosistentPrimary': 1, '_id': ObjectId('6069bb8fe006941af7c2d824')}\n"
     ]
    }
   ],
   "source": [
    "# спробувати зчитати це значення з різними рівнями read concern\n",
    "\n",
    "client = pymongo.MongoClient(host=['localhost:9042'], replicaSet='rs0', readPreference='secondaryPreferred')\n",
    "db = client[\"distributed-db\"]\n",
    "\n",
    "read_concern = pymongo.read_concern.ReadConcern(level='majority')\n",
    "replicas = db.replicas.with_options(read_concern=read_concern)\n",
    "\n",
    "try:\n",
    "    print_cursor(db.replicas.find({\"IncosistentPrimary\": 1}))\n",
    "except pymongo.errors.ServerSelectionTimeoutError:\n",
    "    print('Server Selection Error') "
   ]
  },
  {
   "cell_type": "code",
   "execution_count": 124,
   "id": "93655cc6",
   "metadata": {},
   "outputs": [
    {
     "name": "stdout",
     "output_type": "stream",
     "text": [
      "{'IncosistentPrimary': 1, '_id': ObjectId('6069bb8fe006941af7c2d824')}\n"
     ]
    }
   ],
   "source": [
    "read_concern = pymongo.read_concern.ReadConcern(level='local')\n",
    "replicas = db.replicas.with_options(read_concern=read_concern)\n",
    "\n",
    "try:\n",
    "    print_cursor(db.replicas.find({\"IncosistentPrimary\": 1}))\n",
    "except pymongo.errors.ServerSelectionTimeoutError:\n",
    "    print('Server Selection Error') "
   ]
  },
  {
   "cell_type": "code",
   "execution_count": 125,
   "id": "42abebd9",
   "metadata": {},
   "outputs": [
    {
     "name": "stdout",
     "output_type": "stream",
     "text": [
      "{'IncosistentPrimary': 1, '_id': ObjectId('6069bb8fe006941af7c2d824')}\n"
     ]
    }
   ],
   "source": [
    "read_concern = pymongo.read_concern.ReadConcern(level='lineralizable')\n",
    "replicas = db.replicas.with_options(read_concern=read_concern)\n",
    "\n",
    "try:\n",
    "    print_cursor(db.replicas.find({\"IncosistentPrimary\": 1}))\n",
    "except pymongo.errors.ServerSelectionTimeoutError:\n",
    "    print('Server Selection Error') "
   ]
  },
  {
   "cell_type": "code",
   "execution_count": 126,
   "id": "b412db99",
   "metadata": {},
   "outputs": [
    {
     "name": "stdout",
     "output_type": "stream",
     "text": [
      "mongo1\r\n"
     ]
    }
   ],
   "source": [
    "# включити дві інші ноди таким чином, \n",
    "# щоб вони не бачили попереднього мастера (його можна відключити) і дочекатись поки вони оберуть нового мастера \n",
    "!docker stop mongo1"
   ]
  },
  {
   "cell_type": "code",
   "execution_count": 127,
   "id": "40729870",
   "metadata": {},
   "outputs": [
    {
     "name": "stdout",
     "output_type": "stream",
     "text": [
      "mongo2\n",
      "mongo3\n"
     ]
    }
   ],
   "source": [
    "!docker container start mongo2\n",
    "!docker container start mongo3"
   ]
  },
  {
   "cell_type": "code",
   "execution_count": 137,
   "id": "c31f6957",
   "metadata": {},
   "outputs": [],
   "source": [
    "client = pymongo.MongoClient(host=['localhost:9142'], replicaSet='rs0')\n",
    "db = client[\"distributed-db\"]"
   ]
  },
  {
   "cell_type": "code",
   "execution_count": 138,
   "id": "560f404b",
   "metadata": {},
   "outputs": [
    {
     "data": {
      "text/plain": [
       "('mongo3', 9242)"
      ]
     },
     "execution_count": 138,
     "metadata": {},
     "output_type": "execute_result"
    }
   ],
   "source": [
    "client.primary"
   ]
  },
  {
   "cell_type": "code",
   "execution_count": 140,
   "id": "3c5f4d89",
   "metadata": {},
   "outputs": [
    {
     "name": "stdout",
     "output_type": "stream",
     "text": [
      "mongo1\r\n"
     ]
    }
   ],
   "source": [
    "# підключити (включити) попередню primary-ноду до кластеру і подивитись, що сталось зі значенням яке було на неї записано\n",
    "!docker container start mongo1\n",
    "\n",
    "print_cursor(db.replicas.find({\"IncosistentPrimary\": 1}))"
   ]
  },
  {
   "cell_type": "code",
   "execution_count": 155,
   "id": "6ea14616",
   "metadata": {},
   "outputs": [
    {
     "name": "stdout",
     "output_type": "stream",
     "text": [
      "MongoDB shell version v4.4.4\n",
      "connecting to: mongodb://127.0.0.1:9242/?compressors=disabled&gssapiServiceName=mongodb\n",
      "Implicit session: session { \"id\" : UUID(\"9e1daad0-1cdf-469f-850a-cdab900f819e\") }\n",
      "MongoDB server version: 4.4.4\n",
      "{\n",
      "\t\"_id\" : \"rs0\",\n",
      "\t\"version\" : 1,\n",
      "\t\"term\" : 5,\n",
      "\t\"protocolVersion\" : NumberLong(1),\n",
      "\t\"writeConcernMajorityJournalDefault\" : true,\n",
      "\t\"members\" : [\n",
      "\t\t{\n",
      "\t\t\t\"_id\" : 0,\n",
      "\t\t\t\"host\" : \"mongo1:9042\",\n",
      "\t\t\t\"arbiterOnly\" : false,\n",
      "\t\t\t\"buildIndexes\" : true,\n",
      "\t\t\t\"hidden\" : false,\n",
      "\t\t\t\"priority\" : 1,\n",
      "\t\t\t\"tags\" : {\n",
      "\t\t\t\t\n",
      "\t\t\t},\n",
      "\t\t\t\"slaveDelay\" : NumberLong(0),\n",
      "\t\t\t\"votes\" : 1\n",
      "\t\t},\n",
      "\t\t{\n",
      "\t\t\t\"_id\" : 1,\n",
      "\t\t\t\"host\" : \"mongo2:9142\",\n",
      "\t\t\t\"arbiterOnly\" : false,\n",
      "\t\t\t\"buildIndexes\" : true,\n",
      "\t\t\t\"hidden\" : false,\n",
      "\t\t\t\"priority\" : 1,\n",
      "\t\t\t\"tags\" : {\n",
      "\t\t\t\t\n",
      "\t\t\t},\n",
      "\t\t\t\"slaveDelay\" : NumberLong(0),\n",
      "\t\t\t\"votes\" : 1\n",
      "\t\t},\n",
      "\t\t{\n",
      "\t\t\t\"_id\" : 2,\n",
      "\t\t\t\"host\" : \"mongo3:9242\",\n",
      "\t\t\t\"arbiterOnly\" : false,\n",
      "\t\t\t\"buildIndexes\" : true,\n",
      "\t\t\t\"hidden\" : false,\n",
      "\t\t\t\"priority\" : 1,\n",
      "\t\t\t\"tags\" : {\n",
      "\t\t\t\t\n",
      "\t\t\t},\n",
      "\t\t\t\"slaveDelay\" : NumberLong(0),\n",
      "\t\t\t\"votes\" : 1\n",
      "\t\t}\n",
      "\t],\n",
      "\t\"settings\" : {\n",
      "\t\t\"chainingAllowed\" : true,\n",
      "\t\t\"heartbeatIntervalMillis\" : 2000,\n",
      "\t\t\"heartbeatTimeoutSecs\" : 10,\n",
      "\t\t\"electionTimeoutMillis\" : 10000,\n",
      "\t\t\"catchUpTimeoutMillis\" : -1,\n",
      "\t\t\"catchUpTakeoverDelayMillis\" : 30000,\n",
      "\t\t\"getLastErrorModes\" : {\n",
      "\t\t\t\n",
      "\t\t},\n",
      "\t\t\"getLastErrorDefaults\" : {\n",
      "\t\t\t\"w\" : 1,\n",
      "\t\t\t\"wtimeout\" : 0\n",
      "\t\t},\n",
      "\t\t\"replicaSetId\" : ObjectId(\"606981063574c248da7d70c3\")\n",
      "\t}\n",
      "}\n"
     ]
    }
   ],
   "source": [
    "# Земулювати eventual consistency за допомогою установки затримки реплікації для репліки \n",
    "!docker exec -it mongo1 mongo --port 9042 --eval \"printjson(rs.conf())\""
   ]
  },
  {
   "cell_type": "code",
   "execution_count": 166,
   "id": "f662e8dd",
   "metadata": {},
   "outputs": [
    {
     "name": "stdout",
     "output_type": "stream",
     "text": [
      "MongoDB shell version v4.4.4\n",
      "connecting to: mongodb://127.0.0.1:9242/?compressors=disabled&gssapiServiceName=mongodb\n",
      "Implicit session: session { \"id\" : UUID(\"b1c7d993-15e6-4de8-8e6c-90aa71ec417f\") }\n",
      "MongoDB server version: 4.4.4\n",
      "{\n",
      "\t\"ok\" : 1,\n",
      "\t\"$clusterTime\" : {\n",
      "\t\t\"clusterTime\" : Timestamp(1617543867, 1),\n",
      "\t\t\"signature\" : {\n",
      "\t\t\t\"hash\" : BinData(0,\"AAAAAAAAAAAAAAAAAAAAAAAAAAA=\"),\n",
      "\t\t\t\"keyId\" : NumberLong(0)\n",
      "\t\t}\n",
      "\t},\n",
      "\t\"operationTime\" : Timestamp(1617543867, 1)\n",
      "}\n"
     ]
    }
   ],
   "source": [
    "!docker exec -it mongo3 mongo --port 9242 --eval \"cfg = rs.conf(); cfg.members[0].priority = 0; cfg.members[0].hidden = true; cfg.members[0].slaveDelay = 5; rs.reconfig(cfg)\""
   ]
  },
  {
   "cell_type": "code",
   "execution_count": 167,
   "id": "e7e9438b",
   "metadata": {},
   "outputs": [
    {
     "name": "stdout",
     "output_type": "stream",
     "text": [
      "MongoDB shell version v4.4.4\n",
      "connecting to: mongodb://127.0.0.1:9042/?compressors=disabled&gssapiServiceName=mongodb\n",
      "Implicit session: session { \"id\" : UUID(\"4b68e84f-1301-4714-bd29-fe0f3c1170d0\") }\n",
      "MongoDB server version: 4.4.4\n",
      "{\n",
      "\t\"_id\" : \"rs0\",\n",
      "\t\"version\" : 3,\n",
      "\t\"term\" : 5,\n",
      "\t\"protocolVersion\" : NumberLong(1),\n",
      "\t\"writeConcernMajorityJournalDefault\" : true,\n",
      "\t\"members\" : [\n",
      "\t\t{\n",
      "\t\t\t\"_id\" : 0,\n",
      "\t\t\t\"host\" : \"mongo1:9042\",\n",
      "\t\t\t\"arbiterOnly\" : false,\n",
      "\t\t\t\"buildIndexes\" : true,\n",
      "\t\t\t\"hidden\" : true,\n",
      "\t\t\t\"priority\" : 0,\n",
      "\t\t\t\"tags\" : {\n",
      "\t\t\t\t\n",
      "\t\t\t},\n",
      "\t\t\t\"slaveDelay\" : NumberLong(5),\n",
      "\t\t\t\"votes\" : 1\n",
      "\t\t},\n",
      "\t\t{\n",
      "\t\t\t\"_id\" : 1,\n",
      "\t\t\t\"host\" : \"mongo2:9142\",\n",
      "\t\t\t\"arbiterOnly\" : false,\n",
      "\t\t\t\"buildIndexes\" : true,\n",
      "\t\t\t\"hidden\" : false,\n",
      "\t\t\t\"priority\" : 1,\n",
      "\t\t\t\"tags\" : {\n",
      "\t\t\t\t\n",
      "\t\t\t},\n",
      "\t\t\t\"slaveDelay\" : NumberLong(0),\n",
      "\t\t\t\"votes\" : 1\n",
      "\t\t},\n",
      "\t\t{\n",
      "\t\t\t\"_id\" : 2,\n",
      "\t\t\t\"host\" : \"mongo3:9242\",\n",
      "\t\t\t\"arbiterOnly\" : false,\n",
      "\t\t\t\"buildIndexes\" : true,\n",
      "\t\t\t\"hidden\" : false,\n",
      "\t\t\t\"priority\" : 1,\n",
      "\t\t\t\"tags\" : {\n",
      "\t\t\t\t\n",
      "\t\t\t},\n",
      "\t\t\t\"slaveDelay\" : NumberLong(0),\n",
      "\t\t\t\"votes\" : 1\n",
      "\t\t}\n",
      "\t],\n",
      "\t\"settings\" : {\n",
      "\t\t\"chainingAllowed\" : true,\n",
      "\t\t\"heartbeatIntervalMillis\" : 2000,\n",
      "\t\t\"heartbeatTimeoutSecs\" : 10,\n",
      "\t\t\"electionTimeoutMillis\" : 10000,\n",
      "\t\t\"catchUpTimeoutMillis\" : -1,\n",
      "\t\t\"catchUpTakeoverDelayMillis\" : 30000,\n",
      "\t\t\"getLastErrorModes\" : {\n",
      "\t\t\t\n",
      "\t\t},\n",
      "\t\t\"getLastErrorDefaults\" : {\n",
      "\t\t\t\"w\" : 1,\n",
      "\t\t\t\"wtimeout\" : 0\n",
      "\t\t},\n",
      "\t\t\"replicaSetId\" : ObjectId(\"606981063574c248da7d70c3\")\n",
      "\t}\n",
      "}\n"
     ]
    }
   ],
   "source": [
    "!docker exec -it mongo1 mongo --port 9042 --eval \"printjson(rs.conf())\""
   ]
  },
  {
   "cell_type": "code",
   "execution_count": 162,
   "id": "3ab56487",
   "metadata": {},
   "outputs": [
    {
     "name": "stdout",
     "output_type": "stream",
     "text": [
      "mongo2\r\n"
     ]
    }
   ],
   "source": [
    "!docker stop mongo2"
   ]
  },
  {
   "cell_type": "code",
   "execution_count": 163,
   "id": "5fe0cce7",
   "metadata": {},
   "outputs": [
    {
     "data": {
      "text/plain": [
       "<pymongo.results.InsertOneResult at 0x7fa7b59c13c0>"
      ]
     },
     "execution_count": 163,
     "metadata": {},
     "output_type": "execute_result"
    }
   ],
   "source": [
    "replicas.insert_one({\"WithDelay\": 1})\n",
    "replicas.insert_one({\"WithDelay\": 2})"
   ]
  },
  {
   "cell_type": "code",
   "execution_count": 168,
   "id": "bc3d1ed6",
   "metadata": {},
   "outputs": [
    {
     "name": "stdout",
     "output_type": "stream",
     "text": [
      "{'WithDelay': 1, '_id': ObjectId('6069c1c2e006941af7c2d82d')}\n",
      "{'WithDelay': 2, '_id': ObjectId('6069c1c2e006941af7c2d82e')}\n"
     ]
    }
   ],
   "source": [
    "read_concern = pymongo.read_concern.ReadConcern(level='linearizable')\n",
    "\n",
    "replicas = db.replicas.with_options(read_concern=read_concern)\n",
    "\n",
    "print_cursor(replicas.find({\"WithDelay\": 1}))\n",
    "print_cursor(replicas.find({\"WithDelay\": 2}))"
   ]
  }
 ],
 "metadata": {
  "kernelspec": {
   "display_name": "Python 3",
   "language": "python",
   "name": "python3"
  },
  "language_info": {
   "codemirror_mode": {
    "name": "ipython",
    "version": 3
   },
   "file_extension": ".py",
   "mimetype": "text/x-python",
   "name": "python",
   "nbconvert_exporter": "python",
   "pygments_lexer": "ipython3",
   "version": "3.9.3"
  }
 },
 "nbformat": 4,
 "nbformat_minor": 5
}
