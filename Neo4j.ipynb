{
 "cells": [
  {
   "cell_type": "markdown",
   "id": "unknown-heather",
   "metadata": {},
   "source": [
    "**Neo4j**"
   ]
  },
  {
   "cell_type": "code",
   "execution_count": 77,
   "id": "selective-norman",
   "metadata": {},
   "outputs": [],
   "source": [
    "from neo4j import GraphDatabase\n",
    "\n",
    "driver = GraphDatabase.driver(\"bolt://localhost:7687\", auth=(\"neo4j\", \"test\"))\n",
    "\n",
    "def run(str):\n",
    "    with driver.session() as session:\n",
    "        results = session.run(str)\n",
    "        pprint.pprint(results.value())"
   ]
  },
  {
   "cell_type": "code",
   "execution_count": 70,
   "id": "driving-scheme",
   "metadata": {},
   "outputs": [],
   "source": [
    "# init Customer, Item, Relationships\n",
    "str = \"\"\"\n",
    "    CREATE (ivan:Customer {name: 'Ivan'})\n",
    "    CREATE (victor:Customer {name: 'Victor'})\n",
    "    CREATE (stepa:Customer {name: 'Stepa'})\n",
    "    \n",
    "    CREATE (computer:Item {type: 'Computer', price: 1000})\n",
    "    CREATE (tv:Item {type: 'TV', price: 500})\n",
    "    CREATE (phone:Item {type: 'Phone', price: 600})\n",
    "    CREATE (watch:Item {type: 'Watch', price: 300})\n",
    "    CREATE (speaker:Item {type: 'Speaker', price: 100})\n",
    "        \n",
    "    CREATE (ivan)-[:VIEWED]->(computer)\n",
    "    CREATE (ivan)-[:PURCHASED]->(ivan_order:Order)-[:ITEM]->(computer)\n",
    "    CREATE (ivan)-[:VIEWED]->(tv)\n",
    "    CREATE (ivan)-[:VIEWED]->(speaker)\n",
    "    CREATE (ivan)-[:PURCHASED]->(ivan_order2:Order)-[:ITEM]->(speaker)\n",
    "\n",
    "    CREATE (victor)-[:VIEWED]->(tv)\n",
    "    CREATE (victor)-[:PURCHASED]->(victor_order:Order)-[:ITEM]->(tv)\n",
    "    CREATE (victor)-[:VIEWED]->(phone)\n",
    "    CREATE (victor_order)-[:ITEM]->(phone)\n",
    "    \n",
    "    CREATE (stepa)-[:VIEWED]->(phone)\n",
    "    CREATE (stepa)-[:PURCHASED]->(stepa_order:Order {})-[:ITEM]->(phone)\n",
    "    CREATE (stepa)-[:VIEWED]->(watch)\n",
    "    CREATE (stepa_order)-[:ITEM]->(watch)\n",
    "    CREATE (stepa)-[:VIEWED]->(speaker)\n",
    "    CREATE (stepa_order)-[:ITEM]->(speaker)\n",
    "    \"\"\"\n",
    "\n",
    "with driver.session() as session:\n",
    "        results = session.run(str)"
   ]
  },
  {
   "cell_type": "code",
   "execution_count": 72,
   "id": "increased-payroll",
   "metadata": {},
   "outputs": [
    {
     "name": "stdout",
     "output_type": "stream",
     "text": [
      "[<Node id=10 labels=frozenset({'Item'}) properties={'type': 'Phone', 'price': 600}>,\n",
      " <Node id=9 labels=frozenset({'Item'}) properties={'type': 'TV', 'price': 500}>]\n"
     ]
    }
   ],
   "source": [
    "# Знайти Items які входять в конкретний Order\n",
    "run(\"\"\"\n",
    "    MATCH (order:Order)-->(item:Item)\n",
    "    WHERE id(order) = 3\n",
    "    RETURN item\n",
    "    \"\"\")"
   ]
  },
  {
   "cell_type": "code",
   "execution_count": 73,
   "id": "narrative-questionnaire",
   "metadata": {},
   "outputs": [
    {
     "name": "stdout",
     "output_type": "stream",
     "text": [
      "[1100]\n"
     ]
    }
   ],
   "source": [
    "# Підрахувати вартість конкретного Order\n",
    "run(\"\"\"\n",
    "    MATCH (order:Order)-->(item:Item)\n",
    "    WHERE id(order) = 3\n",
    "    RETURN sum(item.price)\n",
    "    \"\"\")"
   ]
  },
  {
   "cell_type": "code",
   "execution_count": 75,
   "id": "intended-rabbit",
   "metadata": {},
   "outputs": [
    {
     "name": "stdout",
     "output_type": "stream",
     "text": [
      "[<Node id=2 labels=frozenset({'Order'}) properties={}>,\n",
      " <Node id=1 labels=frozenset({'Order'}) properties={}>]\n"
     ]
    }
   ],
   "source": [
    "# Знайти всі Orders конкретного Customer\n",
    "run(\"\"\"\n",
    "    MATCH (customer:Customer)-->(order:Order)\n",
    "    WHERE customer.name = 'Ivan'\n",
    "    RETURN order\n",
    "    \"\"\")"
   ]
  },
  {
   "cell_type": "code",
   "execution_count": 78,
   "id": "sharp-prison",
   "metadata": {},
   "outputs": [
    {
     "name": "stdout",
     "output_type": "stream",
     "text": [
      "[<Node id=0 labels=frozenset({'Item'}) properties={'type': 'Speaker', 'price': 100}>,\n",
      " <Node id=8 labels=frozenset({'Item'}) properties={'type': 'Computer', 'price': 1000}>]\n"
     ]
    }
   ],
   "source": [
    "# Знайти всі Items куплені конкретним Customer (через Order)\n",
    "run(\"\"\"\n",
    "    MATCH (customer:Customer)-->(order:Order)-->(item:Item)\n",
    "    WHERE customer.name = 'Ivan'\n",
    "    RETURN item\n",
    "    \"\"\")"
   ]
  },
  {
   "cell_type": "code",
   "execution_count": 79,
   "id": "separate-train",
   "metadata": {},
   "outputs": [
    {
     "name": "stdout",
     "output_type": "stream",
     "text": [
      "[2]\n"
     ]
    }
   ],
   "source": [
    "# Знайти кількість Items куплені конкретним Customer (через Order)\n",
    "run(\"\"\"\n",
    "    MATCH (customer:Customer)-->(order:Order)-->(item:Item)\n",
    "    WHERE customer.name = 'Ivan'\n",
    "    RETURN count(item)\n",
    "    \"\"\")"
   ]
  },
  {
   "cell_type": "code",
   "execution_count": 82,
   "id": "velvet-shower",
   "metadata": {},
   "outputs": [
    {
     "name": "stdout",
     "output_type": "stream",
     "text": [
      "[1100]\n"
     ]
    }
   ],
   "source": [
    "# Знайти для Customer на яку суму він придбав товарів (через Order)\n",
    "run(\"\"\"\n",
    "    MATCH (customer:Customer)-->(order:Order)-->(item:Item)\n",
    "    WHERE customer.name = 'Ivan'\n",
    "    RETURN sum(item.price)\n",
    "    \"\"\")"
   ]
  },
  {
   "cell_type": "code",
   "execution_count": 156,
   "id": "polish-society",
   "metadata": {},
   "outputs": [
    {
     "name": "stdout",
     "output_type": "stream",
     "text": [
      "[<Node id=0 labels=frozenset({'Item'}) properties={'type': 'Speaker', 'price': 100}>,\n",
      " <Node id=10 labels=frozenset({'Item'}) properties={'type': 'Phone', 'price': 600}>,\n",
      " <Node id=8 labels=frozenset({'Item'}) properties={'type': 'Computer', 'price': 1000}>,\n",
      " <Node id=9 labels=frozenset({'Item'}) properties={'type': 'TV', 'price': 500}>,\n",
      " <Node id=11 labels=frozenset({'Item'}) properties={'type': 'Watch', 'price': 300}>]\n"
     ]
    }
   ],
   "source": [
    "# Знайті скільки разів кожен товар був придбаний, відсортувати за цим значенням\n",
    "run(\"\"\"\n",
    "    MATCH (customer:Customer)-[p:PURCHASED]->(order:Order)-->(item:Item)\n",
    "    RETURN distinct(item), count(p) as x\n",
    "    ORDER BY x DESC;\n",
    "    \"\"\")\n",
    "\n",
    "#  todo todo todo"
   ]
  },
  {
   "cell_type": "code",
   "execution_count": 103,
   "id": "affecting-semiconductor",
   "metadata": {},
   "outputs": [
    {
     "name": "stdout",
     "output_type": "stream",
     "text": [
      "[<Node id=0 labels=frozenset({'Item'}) properties={'type': 'Speaker', 'price': 100}>,\n",
      " <Node id=9 labels=frozenset({'Item'}) properties={'type': 'TV', 'price': 500}>,\n",
      " <Node id=8 labels=frozenset({'Item'}) properties={'type': 'Computer', 'price': 1000}>]\n"
     ]
    }
   ],
   "source": [
    "# Знайти всі Items переглянуті (view) конкретним Customer\n",
    "run(\"\"\"\n",
    "    MATCH (customer:Customer)-->(item:Item)\n",
    "    WHERE customer.name = 'Ivan'\n",
    "    RETURN item\n",
    "    \"\"\")"
   ]
  },
  {
   "cell_type": "code",
   "execution_count": 113,
   "id": "recorded-conflict",
   "metadata": {},
   "outputs": [
    {
     "name": "stdout",
     "output_type": "stream",
     "text": [
      "[<Node id=0 labels=frozenset({'Item'}) properties={'type': 'Speaker', 'price': 100}>,\n",
      " <Node id=11 labels=frozenset({'Item'}) properties={'type': 'Watch', 'price': 300}>,\n",
      " <Node id=10 labels=frozenset({'Item'}) properties={'type': 'Phone', 'price': 600}>,\n",
      " <Node id=9 labels=frozenset({'Item'}) properties={'type': 'TV', 'price': 500}>]\n"
     ]
    }
   ],
   "source": [
    "# Знайти інші Items що купувались разом з конкретним Item \n",
    "# (тобто всі Items що входять до Order-s разом з даними Item)\n",
    "run(\"\"\"\n",
    "    MATCH (:Item {type: 'Phone'})<--(order:Order)\n",
    "    MATCH (ord:Order)-->(item:Item)\n",
    "    WHERE id(ord) = id(order)\n",
    "    RETURN DISTINCT item\n",
    "    \"\"\")"
   ]
  },
  {
   "cell_type": "code",
   "execution_count": 114,
   "id": "atlantic-texture",
   "metadata": {},
   "outputs": [
    {
     "name": "stdout",
     "output_type": "stream",
     "text": [
      "[<Node id=7 labels=frozenset({'Customer'}) properties={'name': 'Stepa'}>,\n",
      " <Node id=6 labels=frozenset({'Customer'}) properties={'name': 'Victor'}>]\n"
     ]
    }
   ],
   "source": [
    "# Знайти Customers які купили даний конкретний Item\n",
    "run(\"\"\"\n",
    "    MATCH (:Item {type: 'Phone'})<--(:Order)<--(cust:Customer)\n",
    "    RETURN cust\n",
    "    \"\"\")"
   ]
  },
  {
   "cell_type": "code",
   "execution_count": 144,
   "id": "focused-russian",
   "metadata": {},
   "outputs": [
    {
     "name": "stdout",
     "output_type": "stream",
     "text": [
      "[<Node id=9 labels=frozenset({'Item'}) properties={'type': 'TV', 'price': 500}>]\n"
     ]
    }
   ],
   "source": [
    "# Знайти для певного Customer(а) товари, \n",
    "# які він переглядав, але не купив\n",
    "run(\"\"\"\n",
    "    MATCH (customer:Customer {name: 'Ivan'})-[:VIEWED]->(item:Item)\n",
    "    WHERE NOT EXISTS {\n",
    "        MATCH  (customer)-->(order:Order)-->(item)\n",
    "    }\n",
    "    RETURN item\n",
    "    \"\"\")"
   ]
  },
  {
   "cell_type": "code",
   "execution_count": 80,
   "id": "round-angle",
   "metadata": {},
   "outputs": [],
   "source": [
    "driver.close()"
   ]
  }
 ],
 "metadata": {
  "kernelspec": {
   "display_name": "Python 3",
   "language": "python",
   "name": "python3"
  },
  "language_info": {
   "codemirror_mode": {
    "name": "ipython",
    "version": 3
   },
   "file_extension": ".py",
   "mimetype": "text/x-python",
   "name": "python",
   "nbconvert_exporter": "python",
   "pygments_lexer": "ipython3",
   "version": "3.8.8"
  }
 },
 "nbformat": 4,
 "nbformat_minor": 5
}
