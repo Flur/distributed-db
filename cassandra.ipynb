{
 "cells": [
  {
   "cell_type": "code",
   "execution_count": 11,
   "id": "electronic-lindsay",
   "metadata": {},
   "outputs": [
    {
     "name": "stdout",
     "output_type": "stream",
     "text": [
      "3.24.0\n"
     ]
    }
   ],
   "source": [
    "import cassandra;\n",
    "\n",
    "print(cassandra.__version__)"
   ]
  },
  {
   "cell_type": "code",
   "execution_count": 12,
   "id": "vanilla-partnership",
   "metadata": {},
   "outputs": [],
   "source": [
    "def print_result_set(result_set):\n",
    "    for row in result_set:\n",
    "        print(row)"
   ]
  },
  {
   "cell_type": "code",
   "execution_count": 13,
   "id": "decent-female",
   "metadata": {},
   "outputs": [],
   "source": [
    "from cassandra.cluster import Cluster\n",
    "\n",
    "cluster = Cluster()\n",
    "session = cluster.connect()\n",
    "session.execute(\"\"\"\n",
    "    CREATE KEYSPACE IF NOT EXISTS items\n",
    "    WITH replication = {\n",
    "      'class' : 'SimpleStrategy',\n",
    "      'replication_factor' : 1\n",
    "    };\n",
    "\"\"\")\n",
    "session.set_keyspace(\"items\")"
   ]
  },
  {
   "cell_type": "code",
   "execution_count": 14,
   "id": "special-exception",
   "metadata": {},
   "outputs": [
    {
     "data": {
      "text/plain": [
       "<cassandra.cluster.ResultSet at 0x1778d3b97f0>"
      ]
     },
     "execution_count": 14,
     "metadata": {},
     "output_type": "execute_result"
    }
   ],
   "source": [
    "session.execute(\"\"\"\n",
    "        CREATE TABLE IF NOT EXISTS products (\n",
    "        category text,\n",
    "        price int,\n",
    "        producer text,\n",
    "        name text,\n",
    "        characteristics map<text, text>,\n",
    "        PRIMARY KEY (category, price, producer)\n",
    "        )\n",
    "    \"\"\")\n",
    "\n",
    "\n",
    "# indexes\n",
    "\n",
    "# session.execute(\"\"\"\n",
    "#         CREATE MATERIALIZED VIEW products_by_name \n",
    "#         AS SELECT category, price, producer, name, characteristics \n",
    "#         FROM products \n",
    "#         PRIMARY KEY (name);\n",
    "#     \"\"\")\n",
    "# looks like materialized view is not recommended to use\n",
    "session.execute(\"\"\"\n",
    "        CREATE INDEX IF NOT EXISTS products_name_index\n",
    "        ON products (name)\n",
    "    \"\"\")\n",
    "\n",
    "session.execute(\"\"\"\n",
    "        CREATE INDEX IF NOT EXISTS product_characteristics_idx\n",
    "        ON products ( KEYS (characteristics) );\n",
    "    \"\"\")\n",
    "\n",
    "session.execute(\"\"\"\n",
    "        CREATE INDEX IF NOT EXISTS product_characteristics_entries_idx\n",
    "        ON products ( ENTRIES(characteristics) );\n",
    "    \"\"\")\n"
   ]
  },
  {
   "cell_type": "code",
   "execution_count": 15,
   "id": "initial-investigator",
   "metadata": {},
   "outputs": [
    {
     "data": {
      "text/plain": [
       "<cassandra.cluster.ResultSet at 0x1778d28c3d0>"
      ]
     },
     "execution_count": 15,
     "metadata": {},
     "output_type": "execute_result"
    }
   ],
   "source": [
    "session.execute(\"\"\"\n",
    "        INSERT INTO products (category, name, price, producer, characteristics) \n",
    "        VALUES ('phone', 'iPhone4', 600, 'Apple', {'cpu': '4', 'diagonal': '5'})\n",
    "    \"\"\")\n",
    "session.execute(\"\"\"\n",
    "        INSERT INTO products (category, name, price, producer, characteristics) \n",
    "        VALUES ('phone', 'iPhone5', 800, 'Apple', {'cpu': '6', 'diagonal': '6'})\n",
    "    \"\"\")\n",
    "session.execute(\"\"\"\n",
    "        INSERT INTO products (category, name, price, producer, characteristics) \n",
    "        VALUES ('tv', 'SuperTV', 1000, 'Samsung', {'diagonal': '60', '4k': 'True'})\n",
    "    \"\"\")\n",
    "session.execute(\"\"\"\n",
    "        INSERT INTO products (category, name, price, producer, characteristics) \n",
    "        VALUES ('watch', 'iWatch', 300, 'Apple', {'wi-fi': 'True', 'heartsensors': 'True'})\n",
    "    \"\"\")\n",
    "session.execute(\"\"\"\n",
    "        INSERT INTO products (category, name, price, producer, characteristics) \n",
    "        VALUES ('keyboard', 'MX', 50, 'Logitech', {'cpu': '4', 'diagonal': '6'})\n",
    "    \"\"\")\n",
    "session.execute(\"\"\"\n",
    "        INSERT INTO products (category, name, price, producer, characteristics) \n",
    "        VALUES ('phone', 'iPhone6', 1000, 'Apple', {'cpu': '8', 'diagonal': '6'})\n",
    "    \"\"\")"
   ]
  },
  {
   "cell_type": "code",
   "execution_count": 16,
   "id": "popular-asset",
   "metadata": {},
   "outputs": [
    {
     "name": "stdout",
     "output_type": "stream",
     "text": [
      "Row(keyspace_name='items', type='table', name='products', create_statement=\"CREATE TABLE items.products (\\n    category text,\\n    price int,\\n    producer text,\\n    name text,\\n    characteristics map<text, text>,\\n    PRIMARY KEY (category, price, producer)\\n) WITH CLUSTERING ORDER BY (price ASC, producer ASC)\\n    AND additional_write_policy = '99p'\\n    AND bloom_filter_fp_chance = 0.01\\n    AND caching = {'keys': 'ALL', 'rows_per_partition': 'NONE'}\\n    AND cdc = false\\n    AND comment = ''\\n    AND compaction = {'class': 'org.apache.cassandra.db.compaction.SizeTieredCompactionStrategy', 'max_threshold': '32', 'min_threshold': '4'}\\n    AND compression = {'chunk_length_in_kb': '16', 'class': 'org.apache.cassandra.io.compress.LZ4Compressor'}\\n    AND crc_check_chance = 1.0\\n    AND default_time_to_live = 0\\n    AND extensions = {}\\n    AND gc_grace_seconds = 864000\\n    AND max_index_interval = 2048\\n    AND memtable_flush_period_in_ms = 0\\n    AND min_index_interval = 128\\n    AND read_repair = 'BLOCKING'\\n    AND speculative_retry = '99p';\")\n",
      "Row(keyspace_name='items', type='index', name='product_characteristics_entries_idx', create_statement='CREATE INDEX product_characteristics_entries_idx ON items.products (entries(characteristics));')\n",
      "Row(keyspace_name='items', type='index', name='product_characteristics_idx', create_statement='CREATE INDEX product_characteristics_idx ON items.products (keys(characteristics));')\n",
      "Row(keyspace_name='items', type='index', name='product_characteristics_values_idx', create_statement='CREATE INDEX product_characteristics_values_idx ON items.products (values(characteristics));')\n",
      "Row(keyspace_name='items', type='index', name='products_name_index', create_statement='CREATE INDEX products_name_index ON items.products (name);')\n"
     ]
    }
   ],
   "source": [
    "# Напишіть запит, який показує структуру створеної таблиці\n",
    "print_result_set(session.execute(\"\"\"DESCRIBE TABLE products\"\"\"))"
   ]
  },
  {
   "cell_type": "code",
   "execution_count": 17,
   "id": "english-shirt",
   "metadata": {},
   "outputs": [
    {
     "name": "stdout",
     "output_type": "stream",
     "text": [
      "Row(category='phone', price=600, producer='Apple', characteristics=OrderedMapSerializedKey([('cpu', '4'), ('diagonal', '5')]), name='iPhone4')\n",
      "Row(category='phone', price=800, producer='Apple', characteristics=OrderedMapSerializedKey([('cpu', '6'), ('diagonal', '6')]), name='iPhone5')\n",
      "Row(category='phone', price=1000, producer='Apple', characteristics=OrderedMapSerializedKey([('cpu', '8'), ('diagonal', '6')]), name='iPhone6')\n"
     ]
    }
   ],
   "source": [
    "# Напишіть запит, який виводить усі товари в певній категорії відсортовані за ціною\n",
    "print_result_set(\n",
    "    session.execute(\"\"\"\n",
    "        SELECT * FROM products WHERE category = 'phone'\n",
    "    \"\"\")\n",
    ")"
   ]
  },
  {
   "cell_type": "code",
   "execution_count": 58,
   "id": "cosmetic-support",
   "metadata": {},
   "outputs": [
    {
     "name": "stdout",
     "output_type": "stream",
     "text": [
      "Row(category='phone', price=800, producer='Apple', characteristics=OrderedMapSerializedKey([('cpu', '6'), ('diagonal', '6')]), name='iPhone5')\n"
     ]
    }
   ],
   "source": [
    "# Напишіть запити, які вибирають товари за різними критеріями в межах певної категорії:\n",
    "# назва\n",
    "print_result_set(\n",
    "    session.execute(\"\"\"\n",
    "        SELECT * FROM products WHERE category = 'phone' AND name = 'iPhone5'\n",
    "    \"\"\")\n",
    ")"
   ]
  },
  {
   "cell_type": "code",
   "execution_count": 60,
   "id": "virtual-backing",
   "metadata": {},
   "outputs": [
    {
     "name": "stdout",
     "output_type": "stream",
     "text": [
      "Row(category='phone', price=800, producer='Apple', characteristics=OrderedMapSerializedKey([('cpu', '6'), ('diagonal', '6')]), name='iPhone5')\n"
     ]
    }
   ],
   "source": [
    "# ціна (в проміжку)\n",
    "print_result_set(\n",
    "    session.execute(\"\"\"\n",
    "        SELECT * FROM products WHERE category = 'phone' AND price < 1000 AND price > 600\n",
    "    \"\"\")\n",
    ")"
   ]
  },
  {
   "cell_type": "code",
   "execution_count": 63,
   "id": "thick-affect",
   "metadata": {},
   "outputs": [
    {
     "name": "stdout",
     "output_type": "stream",
     "text": [
      "Row(category='phone', price=1000, producer='Apple', characteristics=OrderedMapSerializedKey([('cpu', '8'), ('diagonal', '6')]), name='iPhone6')\n"
     ]
    }
   ],
   "source": [
    "# ціна та виробник \n",
    "print_result_set(\n",
    "    session.execute(\"\"\"\n",
    "        SELECT * FROM products WHERE category = 'phone' AND price=1000 AND producer = 'Apple'\n",
    "    \"\"\")\n",
    ")"
   ]
  },
  {
   "cell_type": "code",
   "execution_count": 67,
   "id": "nervous-melissa",
   "metadata": {},
   "outputs": [
    {
     "name": "stdout",
     "output_type": "stream",
     "text": [
      "Row(category='phone', price=600, producer='Apple', characteristics=OrderedMapSerializedKey([('cpu', '4'), ('diagonal', '5')]), name='iPhone4')\n",
      "Row(category='phone', price=800, producer='Apple', characteristics=OrderedMapSerializedKey([('cpu', '6'), ('diagonal', '6')]), name='iPhone5')\n",
      "Row(category='phone', price=1000, producer='Apple', characteristics=OrderedMapSerializedKey([('cpu', '8'), ('diagonal', '6')]), name='iPhone6')\n",
      "Row(category='keyboard', price=50, producer='Logitech', characteristics=OrderedMapSerializedKey([('cpu', '4'), ('diagonal', '6')]), name='MX')\n"
     ]
    }
   ],
   "source": [
    "# Напишіть запити, які вибирають товари за:\n",
    "# наявність певних характеристик\n",
    "print_result_set(\n",
    "    session.execute(\"\"\"\n",
    "        SELECT * FROM products WHERE characteristics CONTAINS KEY 'cpu';\n",
    "    \"\"\")\n",
    ")"
   ]
  },
  {
   "cell_type": "code",
   "execution_count": 81,
   "id": "bigger-cardiff",
   "metadata": {},
   "outputs": [
    {
     "name": "stdout",
     "output_type": "stream",
     "text": [
      "Row(category='phone', price=1000, producer='Apple', characteristics=OrderedMapSerializedKey([('cpu', '8'), ('diagonal', '6')]), name='iPhone6')\n"
     ]
    }
   ],
   "source": [
    "# певна характеристика та її значення\n",
    "print_result_set(\n",
    "    session.execute(\"\"\"\n",
    "        SELECT * FROM products WHERE characteristics['cpu']='8';\n",
    "    \"\"\")\n",
    ")"
   ]
  },
  {
   "cell_type": "code",
   "execution_count": 88,
   "id": "distinguished-summer",
   "metadata": {},
   "outputs": [],
   "source": [
    "# Оновити опис товару:\n",
    "# змінить існуючі значення певної характеристики \n",
    "print_result_set(\n",
    "    session.execute(\"\"\"\n",
    "        UPDATE products\n",
    "        SET characteristics['cpu'] = '12'\n",
    "        WHERE category='phone' AND price=1000 AND producer='Apple';\n",
    "    \"\"\")\n",
    ")"
   ]
  },
  {
   "cell_type": "code",
   "execution_count": 89,
   "id": "electrical-crystal",
   "metadata": {},
   "outputs": [
    {
     "name": "stdout",
     "output_type": "stream",
     "text": [
      "Row(category='phone', price=1000, producer='Apple', characteristics=OrderedMapSerializedKey([('cpu', '12'), ('diagonal', '6')]), name='iPhone6')\n"
     ]
    }
   ],
   "source": [
    "print_result_set(\n",
    "    session.execute(\"\"\"\n",
    "        SELECT * FROM products\n",
    "        WHERE category='phone' AND price=1000 AND producer='Apple';\n",
    "    \"\"\")\n",
    ")"
   ]
  },
  {
   "cell_type": "code",
   "execution_count": 90,
   "id": "quick-heater",
   "metadata": {},
   "outputs": [
    {
     "name": "stdout",
     "output_type": "stream",
     "text": [
      "Row(category='phone', price=1000, producer='Apple', characteristics=OrderedMapSerializedKey([('cpu', '12'), ('diagonal', '6'), ('expensive', 'True')]), name='iPhone6')\n"
     ]
    }
   ],
   "source": [
    "# додайте нові властивості (характеристики) товару\n",
    "print_result_set(\n",
    "    session.execute(\"\"\"\n",
    "        UPDATE products\n",
    "        SET characteristics = characteristics + {'expensive': 'True'}\n",
    "        WHERE category='phone' AND price=1000 AND producer='Apple';\n",
    "    \"\"\")\n",
    ")\n",
    "print_result_set(\n",
    "    session.execute(\"\"\"\n",
    "        SELECT * FROM products\n",
    "        WHERE category='phone' AND price=1000 AND producer='Apple';\n",
    "    \"\"\")\n",
    ")"
   ]
  },
  {
   "cell_type": "code",
   "execution_count": 91,
   "id": "sized-folder",
   "metadata": {},
   "outputs": [
    {
     "name": "stdout",
     "output_type": "stream",
     "text": [
      "Row(category='phone', price=1000, producer='Apple', characteristics=OrderedMapSerializedKey([('cpu', '12'), ('diagonal', '6')]), name='iPhone6')\n"
     ]
    }
   ],
   "source": [
    "# видалить характеристику товару\n",
    "print_result_set(\n",
    "    session.execute(\"\"\"\n",
    "        DELETE characteristics['expensive']\n",
    "        FROM products\n",
    "        WHERE category='phone' AND price=1000 AND producer='Apple';\n",
    "    \"\"\")\n",
    ")\n",
    "print_result_set(\n",
    "    session.execute(\"\"\"\n",
    "        SELECT * FROM products\n",
    "        WHERE category='phone' AND price=1000 AND producer='Apple';\n",
    "    \"\"\")\n",
    ")"
   ]
  },
  {
   "cell_type": "markdown",
   "id": "living-queensland",
   "metadata": {},
   "source": [
    "**Створіть таблицю orders в якій міститься ім'я замовника і інформація про замовлення: перелік id-товарів у замовленні, вартість замовлення, дата замовлення, .... Для кожного замовника повинна бути можливість швидко шукати його замовлення і виконувати по них запити.**"
   ]
  },
  {
   "cell_type": "code",
   "execution_count": 93,
   "id": "brutal-divorce",
   "metadata": {},
   "outputs": [
    {
     "data": {
      "text/plain": [
       "<cassandra.cluster.ResultSet at 0x1778d308b20>"
      ]
     },
     "execution_count": 93,
     "metadata": {},
     "output_type": "execute_result"
    }
   ],
   "source": [
    "session.execute(\"\"\"\n",
    "        CREATE TABLE IF NOT EXISTS orders (\n",
    "        client_name text,\n",
    "        date timestamp,\n",
    "        products list<int>,\n",
    "        id int,\n",
    "        PRIMARY KEY (client_name, date, id)\n",
    "        )\n",
    "    \"\"\")\n",
    "session.execute(\"\"\"\n",
    "        CREATE TABLE IF NOT EXISTS order_price (\n",
    "        price counter,\n",
    "        id int, \n",
    "        PRIMARY KEY (id)\n",
    "        )\n",
    "    \"\"\")\n",
    "\n",
    "\n",
    "session.execute(\"\"\"\n",
    "        INSERT INTO orders (client_name, date, products, id) \n",
    "        VALUES ('Ivan', '2020-12-12T12:00:00', [1, 2, 3], 0)\n",
    "    \"\"\")\n",
    "session.execute(\"\"\"\n",
    "        UPDATE order_price\n",
    "        SET price = price + 600\n",
    "        WHERE id = 0\n",
    "    \"\"\")\n",
    "\n",
    "session.execute(\"\"\"\n",
    "        INSERT INTO orders (client_name, date, products, id) \n",
    "        VALUES ('Ivan', '2019-12-12T12:00:00', [5], 1)\n",
    "    \"\"\")\n",
    "session.execute(\"\"\"\n",
    "        UPDATE order_price\n",
    "        SET price = price + 300\n",
    "        WHERE id = 1\n",
    "    \"\"\")\n",
    "\n",
    "session.execute(\"\"\"\n",
    "        INSERT INTO orders (client_name, date, products, id) \n",
    "        VALUES ('Ivan', '2017-12-12T12:00:00', [4], 2)\n",
    "    \"\"\")\n",
    "session.execute(\"\"\"\n",
    "        UPDATE order_price\n",
    "        SET price = price + 50\n",
    "        WHERE id = 2\n",
    "    \"\"\")\n",
    "\n",
    "session.execute(\"\"\"\n",
    "        INSERT INTO orders (client_name, date, products, id) \n",
    "        VALUES ('Victor', '2018-10-12T12:00:00', [1], 3)\n",
    "    \"\"\")\n",
    "session.execute(\"\"\"\n",
    "        UPDATE order_price\n",
    "        SET price = price + 200\n",
    "        WHERE id = 3\n",
    "    \"\"\")\n",
    "\n",
    "session.execute(\"\"\"\n",
    "        INSERT INTO orders (client_name, date, products, id) \n",
    "        VALUES ('Victor', '2019-10-12T12:00:00', [10, 11], 4)\n",
    "    \"\"\")\n",
    "session.execute(\"\"\"\n",
    "        UPDATE order_price\n",
    "        SET price = price + 2000\n",
    "        WHERE id = 4\n",
    "    \"\"\")\n",
    "\n",
    "session.execute(\"\"\"\n",
    "        INSERT INTO orders (client_name, date, products, id) \n",
    "        VALUES ('Fedya', '2020-10-01T12:00:00', [1, 2, 10], 5)\n",
    "    \"\"\")\n",
    "session.execute(\"\"\"\n",
    "        UPDATE order_price\n",
    "        SET price = price + 1400\n",
    "        WHERE id = 5\n",
    "    \"\"\")\n"
   ]
  },
  {
   "cell_type": "code",
   "execution_count": 94,
   "id": "unlikely-video",
   "metadata": {},
   "outputs": [
    {
     "data": {
      "text/plain": [
       "<cassandra.cluster.ResultSet at 0x1778ced5790>"
      ]
     },
     "execution_count": 94,
     "metadata": {},
     "output_type": "execute_result"
    }
   ],
   "source": [
    "session.execute(\"\"\"\n",
    "        CREATE INDEX IF NOT EXISTS products_id_index\n",
    "        ON orders (products)\n",
    "    \"\"\")"
   ]
  },
  {
   "cell_type": "code",
   "execution_count": 95,
   "id": "aboriginal-japanese",
   "metadata": {},
   "outputs": [
    {
     "name": "stdout",
     "output_type": "stream",
     "text": [
      "Row(client_name='Ivan', date=datetime.datetime(2017, 12, 12, 12, 0), id=2, products=[4])\n",
      "Row(client_name='Ivan', date=datetime.datetime(2019, 12, 12, 12, 0), id=1, products=[5])\n",
      "Row(client_name='Ivan', date=datetime.datetime(2020, 12, 12, 12, 0), id=0, products=[1, 2, 3])\n",
      "Row(client_name='Fedya', date=datetime.datetime(2020, 10, 1, 12, 0), id=5, products=[1, 2, 10])\n",
      "Row(client_name='Victor', date=datetime.datetime(2018, 10, 12, 12, 0), id=3, products=[1])\n",
      "Row(client_name='Victor', date=datetime.datetime(2019, 10, 12, 12, 0), id=4, products=[10, 11])\n"
     ]
    }
   ],
   "source": [
    "print_result_set(session.execute(\"\"\"select * from orders\"\"\"))"
   ]
  },
  {
   "cell_type": "code",
   "execution_count": 96,
   "id": "psychological-crime",
   "metadata": {},
   "outputs": [
    {
     "name": "stdout",
     "output_type": "stream",
     "text": [
      "Row(keyspace_name='items', type='table', name='orders', create_statement=\"CREATE TABLE items.orders (\\n    client_name text,\\n    date timestamp,\\n    id int,\\n    products list<int>,\\n    PRIMARY KEY (client_name, date, id)\\n) WITH CLUSTERING ORDER BY (date ASC, id ASC)\\n    AND additional_write_policy = '99p'\\n    AND bloom_filter_fp_chance = 0.01\\n    AND caching = {'keys': 'ALL', 'rows_per_partition': 'NONE'}\\n    AND cdc = false\\n    AND comment = ''\\n    AND compaction = {'class': 'org.apache.cassandra.db.compaction.SizeTieredCompactionStrategy', 'max_threshold': '32', 'min_threshold': '4'}\\n    AND compression = {'chunk_length_in_kb': '16', 'class': 'org.apache.cassandra.io.compress.LZ4Compressor'}\\n    AND crc_check_chance = 1.0\\n    AND default_time_to_live = 0\\n    AND extensions = {}\\n    AND gc_grace_seconds = 864000\\n    AND max_index_interval = 2048\\n    AND memtable_flush_period_in_ms = 0\\n    AND min_index_interval = 128\\n    AND read_repair = 'BLOCKING'\\n    AND speculative_retry = '99p';\")\n",
      "Row(keyspace_name='items', type='index', name='products_id_index', create_statement='CREATE INDEX products_id_index ON items.orders (values(products));')\n"
     ]
    }
   ],
   "source": [
    "# Напишіть запит, який показує структуру створеної таблиці (команда DESCRIBE) \n",
    "print_result_set(session.execute(\"\"\"DESCRIBE TABLE orders\"\"\"))"
   ]
  },
  {
   "cell_type": "code",
   "execution_count": 98,
   "id": "alpine-nightlife",
   "metadata": {},
   "outputs": [
    {
     "name": "stdout",
     "output_type": "stream",
     "text": [
      "Row(client_name='Ivan', date=datetime.datetime(2017, 12, 12, 12, 0), id=2, products=[4])\n",
      "Row(client_name='Ivan', date=datetime.datetime(2019, 12, 12, 12, 0), id=1, products=[5])\n",
      "Row(client_name='Ivan', date=datetime.datetime(2020, 12, 12, 12, 0), id=0, products=[1, 2, 3])\n"
     ]
    }
   ],
   "source": [
    "# Для замовника виведіть всі його замовлення відсортовані за часом коли вони були зроблені\n",
    "print_result_set(session.execute(\"\"\"select * from orders where client_name='Ivan'\"\"\"))"
   ]
  },
  {
   "cell_type": "code",
   "execution_count": 99,
   "id": "vanilla-sleeve",
   "metadata": {},
   "outputs": [
    {
     "name": "stdout",
     "output_type": "stream",
     "text": [
      "Row(client_name='Ivan', date=datetime.datetime(2020, 12, 12, 12, 0), id=0, products=[1, 2, 3])\n"
     ]
    }
   ],
   "source": [
    "# Для замовника знайдіть замовлення з певним товаром\n",
    "print_result_set(session.execute(\"\"\"select * from orders where client_name='Ivan' AND products CONTAINS 1\"\"\"))"
   ]
  },
  {
   "cell_type": "code",
   "execution_count": 100,
   "id": "embedded-encoding",
   "metadata": {},
   "outputs": [
    {
     "name": "stdout",
     "output_type": "stream",
     "text": [
      "Row(client_name='Ivan', date=datetime.datetime(2019, 12, 12, 12, 0), id=1, products=[5])\n",
      "Row(count=1)\n"
     ]
    }
   ],
   "source": [
    "# Для замовника знайдіть замовлення за певний період часу і їх кількість\n",
    "print_result_set(session.execute(\"\"\"\n",
    "    select * from orders where client_name='Ivan' AND date < '2020-12-11T12:00:00' AND date > '2017-12-25T12:00:00'\n",
    "\"\"\"))\n",
    "print_result_set(session.execute(\"\"\"\n",
    "    select count(*) from orders where client_name='Ivan' AND date < '2020-12-11T12:00:00' AND date > '2017-12-25T12:00:00'\n",
    "\"\"\"))\n"
   ]
  },
  {
   "cell_type": "code",
   "execution_count": 127,
   "id": "wrong-scanning",
   "metadata": {},
   "outputs": [
    {
     "name": "stdout",
     "output_type": "stream",
     "text": [
      "Row(system_avg_price=316)\n",
      "Row(system_avg_price=1100)\n",
      "Row(system_avg_price=1400)\n"
     ]
    }
   ],
   "source": [
    "# Для кожного замовників визначте середню вартість замовлення\n",
    "ivan_orders_ids = [str(row.id) for row in session.execute(\"\"\"\n",
    "    select id from orders where client_name='Ivan'\n",
    "\"\"\")]\n",
    "print_result_set(\n",
    "    session.execute(\"select avg(price) from order_price where id in (\" + ', '.join(ivan_orders_ids) + \")\")\n",
    ")\n",
    "\n",
    "victor_orders_ids = [str(row.id) for row in session.execute(\"\"\"\n",
    "    select id from orders where client_name='Victor'\n",
    "\"\"\")]\n",
    "print_result_set(\n",
    "    session.execute(\"select avg(price) from order_price where id in (\" + ', '.join(victor_orders_ids) + \")\")\n",
    ")\n",
    "\n",
    "fedya_orders_ids = [str(row.id) for row in session.execute(\"\"\"\n",
    "    select id from orders where client_name='Fedya'\n",
    "\"\"\")]\n",
    "print_result_set(\n",
    "    session.execute(\"select avg(price) from order_price where id in (\" + ', '.join(fedya_orders_ids) + \")\")\n",
    ")"
   ]
  },
  {
   "cell_type": "code",
   "execution_count": 128,
   "id": "instrumental-folder",
   "metadata": {},
   "outputs": [
    {
     "name": "stdout",
     "output_type": "stream",
     "text": [
      "Row(system_sum_price=950)\n",
      "Row(system_sum_price=2200)\n",
      "Row(system_sum_price=1400)\n"
     ]
    }
   ],
   "source": [
    "# Для кожного замовників визначте суму на яку були зроблені усі його замовлення\n",
    "print_result_set(\n",
    "    session.execute(\"select sum(price) from order_price where id in (\" + ', '.join(ivan_orders_ids) + \")\")\n",
    ")\n",
    "\n",
    "\n",
    "print_result_set(\n",
    "    session.execute(\"select sum(price) from order_price where id in (\" + ', '.join(victor_orders_ids) + \")\")\n",
    ")\n",
    "\n",
    "print_result_set(\n",
    "    session.execute(\"select sum(price) from order_price where id in (\" + ', '.join(fedya_orders_ids) + \")\")\n",
    ")"
   ]
  },
  {
   "cell_type": "code",
   "execution_count": 129,
   "id": "cognitive-virgin",
   "metadata": {},
   "outputs": [
    {
     "name": "stdout",
     "output_type": "stream",
     "text": [
      "Row(system_max_price=600)\n",
      "Row(system_max_price=2000)\n",
      "Row(system_max_price=1400)\n"
     ]
    }
   ],
   "source": [
    "# Для кожного замовників визначте замовлення з максимальною вартістю\n",
    "print_result_set(\n",
    "    session.execute(\"select max(price) from order_price where id in (\" + ', '.join(ivan_orders_ids) + \")\")\n",
    ")\n",
    "\n",
    "\n",
    "print_result_set(\n",
    "    session.execute(\"select max(price) from order_price where id in (\" + ', '.join(victor_orders_ids) + \")\")\n",
    ")\n",
    "\n",
    "print_result_set(\n",
    "    session.execute(\"select max(price) from order_price where id in (\" + ', '.join(fedya_orders_ids) + \")\")\n",
    ")"
   ]
  },
  {
   "cell_type": "code",
   "execution_count": 132,
   "id": "federal-behavior",
   "metadata": {},
   "outputs": [
    {
     "name": "stdout",
     "output_type": "stream",
     "text": [
      "Row(client_name='Ivan', date=datetime.datetime(2020, 12, 12, 12, 0), id=0, products=[2, 3])\n",
      "Row(id=0, price=400)\n"
     ]
    }
   ],
   "source": [
    "#  Модифікуйте певне замовлення додавши / видаливши один або кілька товарів при цьому також змінюючи вартість замовлення\n",
    "\n",
    "# \n",
    "#  можна було не використовувати counter табл а діставати значення і модифікувати їх в пайтоні \n",
    "# \n",
    "print_result_set(\n",
    "    session.execute(\"\"\"\n",
    "             UPDATE orders \n",
    "             SET products = products - [1]\n",
    "             WHERE client_name = 'Ivan' AND date='2020-12-12T12:00:00' AND id = 0;\n",
    "     \"\"\")\n",
    " )\n",
    "print_result_set(\n",
    "    session.execute(\"\"\"            \n",
    "             UPDATE order_price \n",
    "             SET price = price - 100\n",
    "             WHERE id = 0;\n",
    "     \"\"\")\n",
    " )\n",
    "\n",
    "print_result_set(\n",
    "    session.execute(\"\"\"\n",
    "        SELECT * from orders\n",
    "        WHERE client_name='Ivan' AND date='2020-12-12T12:00:00';\n",
    "    \"\"\")\n",
    ")\n",
    "print_result_set(\n",
    "    session.execute(\"\"\"\n",
    "        SELECT * from order_price\n",
    "        WHERE id = 0;\n",
    "    \"\"\")\n",
    ")"
   ]
  },
  {
   "cell_type": "code",
   "execution_count": 135,
   "id": "portuguese-still",
   "metadata": {},
   "outputs": [
    {
     "name": "stdout",
     "output_type": "stream",
     "text": [
      "Row(writetime_price=1615731073020707, id=5)\n",
      "Row(writetime_price=1615731072926329, id=1)\n",
      "Row(writetime_price=1615732341465632, id=0)\n",
      "Row(writetime_price=1615731072945888, id=2)\n",
      "Row(writetime_price=1615731072988952, id=4)\n",
      "Row(writetime_price=1615731072957215, id=3)\n"
     ]
    }
   ],
   "source": [
    "# Для кожного замовлення виведіть час коли його ціна були занесена в базу (SELECT WRITETIME)\n",
    "print_result_set(\n",
    "    session.execute(\"\"\"            \n",
    "             SELECT WRITETIME (price), id FROM order_price;\n",
    "     \"\"\")\n",
    " )\n"
   ]
  },
  {
   "cell_type": "code",
   "execution_count": 136,
   "id": "urban-detector",
   "metadata": {},
   "outputs": [],
   "source": [
    "#  Створіть замовлення з певним часом життя (TTL), після якого воно видалиться \n",
    "print_result_set(\n",
    "    session.execute(\"\"\"            \n",
    "            INSERT INTO orders (client_name, date, products, id) \n",
    "            VALUES ('Kate', '2021-01-12T12:00:00', [55], 6)\n",
    "            USING TTL 86400;\n",
    "     \"\"\")\n",
    " )"
   ]
  },
  {
   "cell_type": "code",
   "execution_count": 137,
   "id": "mathematical-validity",
   "metadata": {},
   "outputs": [
    {
     "name": "stdout",
     "output_type": "stream",
     "text": [
      "Row(json='{\"client_name\": \"Kate\", \"date\": \"2021-01-12 12:00:00.000Z\", \"id\": 6, \"products\": [55]}')\n"
     ]
    }
   ],
   "source": [
    "# Поверніть замовлення у форматі JSON\n",
    "print_result_set(\n",
    "    session.execute(\"\"\"\n",
    "        SELECT json * from orders\n",
    "        WHERE client_name = 'Kate';\n",
    "    \"\"\")\n",
    ")"
   ]
  },
  {
   "cell_type": "code",
   "execution_count": 140,
   "id": "accessible-corpus",
   "metadata": {},
   "outputs": [
    {
     "name": "stdout",
     "output_type": "stream",
     "text": [
      "Row(client_name='Filip', date=datetime.datetime(2021, 1, 12, 12, 0), id=7, products=[55, 100])\n"
     ]
    }
   ],
   "source": [
    "# Додайте замовлення у форматі JSON\n",
    "print_result_set(\n",
    "    session.execute(\"\"\"\n",
    "        INSERT INTO orders JSON '{\n",
    "          \"client_name\" : \"Filip\", \n",
    "          \"date\": \"2021-01-12 12:00:00.000Z\", \n",
    "          \"id\" : 7,\n",
    "          \"products\": [55, 100] }';\n",
    "    \"\"\")\n",
    ")\n",
    "print_result_set(\n",
    "    session.execute(\"\"\"\n",
    "        SELECT * from orders\n",
    "        WHERE client_name = 'Filip';\n",
    "    \"\"\")\n",
    ")"
   ]
  }
 ],
 "metadata": {
  "kernelspec": {
   "display_name": "Python 3",
   "language": "python",
   "name": "python3"
  },
  "language_info": {
   "codemirror_mode": {
    "name": "ipython",
    "version": 3
   },
   "file_extension": ".py",
   "mimetype": "text/x-python",
   "name": "python",
   "nbconvert_exporter": "python",
   "pygments_lexer": "ipython3",
   "version": "3.8.8"
  }
 },
 "nbformat": 4,
 "nbformat_minor": 5
}
