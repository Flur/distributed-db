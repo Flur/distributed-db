{
 "cells": [
  {
   "cell_type": "code",
   "execution_count": 4,
   "id": "electronic-lindsay",
   "metadata": {},
   "outputs": [
    {
     "name": "stdout",
     "output_type": "stream",
     "text": [
      "3.25.0\n"
     ]
    }
   ],
   "source": [
    "import cassandra;\n",
    "\n",
    "print(cassandra.__version__)"
   ]
  },
  {
   "cell_type": "code",
   "execution_count": 17,
   "id": "6e46b88b",
   "metadata": {},
   "outputs": [
    {
     "name": "stdout",
     "output_type": "stream",
     "text": [
      "67444437e9e02d8f050775b7e1c36d8baf4c0b1828291f78c6a367095bcb71bc\r\n"
     ]
    }
   ],
   "source": [
    "!docker run --name cas1 -p 9042:9042 -e CASSANDRA_CLUSTER_NAME=MyCluster -e CASSANDRA_ENDPOINT_SNITCH=GossipingPropertyFileSnitch -e CASSANDRA_DC=datacenter1 -d cassandra"
   ]
  },
  {
   "cell_type": "code",
   "execution_count": 26,
   "id": "00c61aa3",
   "metadata": {},
   "outputs": [
    {
     "name": "stdout",
     "output_type": "stream",
     "text": [
      "{ NetworkSettings.IPAddress }\r\n"
     ]
    }
   ],
   "source": [
    "!docker inspect --format='{{ .NetworkSettings.IPAddress }}' cas1"
   ]
  },
  {
   "cell_type": "code",
   "execution_count": 30,
   "id": "a2d25c2e",
   "metadata": {},
   "outputs": [
    {
     "name": "stdout",
     "output_type": "stream",
     "text": [
      "3e41fb01350f5e6ad8b118de0a6c978b97fb73e5dcecbbffc5d4f1fd25172287\n",
      "c0472c44fc4f2453b460390d3a2c2601cbb8b628b84abe45fbce582765b4e2ac\n"
     ]
    }
   ],
   "source": [
    "# this ones were copied into terminal as it have $ sign here\n",
    "!docker run --name cas2 -p 9142:9042 -e CASSANDRA_SEEDS=\"$(docker inspect --format='{{ .NetworkSettings.IPAddress }}' cas1)\" -e CASSANDRA_CLUSTER_NAME=MyCluster -e CASSANDRA_ENDPOINT_SNITCH=GossipingPropertyFileSnitch -e CASSANDRA_DC=datacenter1 -d cassandra\n",
    " \n",
    "!docker run --name cas3 -p 9242:9042 -e CASSANDRA_SEEDS=\"$(docker inspect --format='{{ .NetworkSettings.IPAddress }}' cas1)\" -e CASSANDRA_CLUSTER_NAME=MyCluster -e CASSANDRA_ENDPOINT_SNITCH=GossipingPropertyFileSnitch -e CASSANDRA_DC=datacenter2 -d cassandra"
   ]
  },
  {
   "cell_type": "code",
   "execution_count": 99,
   "id": "307715df",
   "metadata": {},
   "outputs": [
    {
     "name": "stdout",
     "output_type": "stream",
     "text": [
      "Datacenter: datacenter1\n",
      "=======================\n",
      "Status=Up/Down\n",
      "|/ State=Normal/Leaving/Joining/Moving\n",
      "--  Address     Load       Tokens       Owns    Host ID                               Rack\n",
      "UN  172.17.0.3  340.42 KiB  256          ?       0d8112de-d0c4-48d8-9ad7-bfc3ba4906b2  rack1\n",
      "UN  172.17.0.2  562.35 KiB  256          ?       8eb626dc-9dbb-4229-a5bc-00e19582a9fc  rack1\n",
      "Datacenter: datacenter2\n",
      "=======================\n",
      "Status=Up/Down\n",
      "|/ State=Normal/Leaving/Joining/Moving\n",
      "--  Address     Load       Tokens       Owns    Host ID                               Rack\n",
      "UN  172.17.0.4  379.78 KiB  256          ?       e1a37d3f-7cb1-4050-a3b7-52b8f9f6d462  rack1\n",
      "\n",
      "Note: Non-system keyspaces don't have the same replication settings, effective ownership information is meaningless\n",
      "**\n",
      "Datacenter: datacenter1\n",
      "=======================\n",
      "Status=Up/Down\n",
      "|/ State=Normal/Leaving/Joining/Moving\n",
      "--  Address     Load       Tokens       Owns    Host ID                               Rack\n",
      "UN  172.17.0.3  340.42 KiB  256          ?       0d8112de-d0c4-48d8-9ad7-bfc3ba4906b2  rack1\n",
      "UN  172.17.0.2  562.35 KiB  256          ?       8eb626dc-9dbb-4229-a5bc-00e19582a9fc  rack1\n",
      "Datacenter: datacenter2\n",
      "=======================\n",
      "Status=Up/Down\n",
      "|/ State=Normal/Leaving/Joining/Moving\n",
      "--  Address     Load       Tokens       Owns    Host ID                               Rack\n",
      "UN  172.17.0.4  379.78 KiB  256          ?       e1a37d3f-7cb1-4050-a3b7-52b8f9f6d462  rack1\n",
      "\n",
      "Note: Non-system keyspaces don't have the same replication settings, effective ownership information is meaningless\n",
      "**\n",
      "Datacenter: datacenter1\n",
      "=======================\n",
      "Status=Up/Down\n",
      "|/ State=Normal/Leaving/Joining/Moving\n",
      "--  Address     Load       Tokens       Owns    Host ID                               Rack\n",
      "UN  172.17.0.3  340.42 KiB  256          ?       0d8112de-d0c4-48d8-9ad7-bfc3ba4906b2  rack1\n",
      "DN  172.17.0.2  562.35 KiB  256          ?       8eb626dc-9dbb-4229-a5bc-00e19582a9fc  rack1\n",
      "Datacenter: datacenter2\n",
      "=======================\n",
      "Status=Up/Down\n",
      "|/ State=Normal/Leaving/Joining/Moving\n",
      "--  Address     Load       Tokens       Owns    Host ID                               Rack\n",
      "UN  172.17.0.4  379.78 KiB  256          ?       e1a37d3f-7cb1-4050-a3b7-52b8f9f6d462  rack1\n",
      "\n",
      "Note: Non-system keyspaces don't have the same replication settings, effective ownership information is meaningless\n"
     ]
    }
   ],
   "source": [
    "!docker exec -ti cas1 nodetool status\n",
    "print(\"**\")\n",
    "!docker exec -ti cas2 nodetool status\n",
    "print(\"**\")\n",
    "!docker exec -ti cas3 nodetool status"
   ]
  },
  {
   "cell_type": "code",
   "execution_count": 37,
   "id": "vanilla-partnership",
   "metadata": {},
   "outputs": [],
   "source": [
    "def print_result_set(result_set):\n",
    "    for row in result_set:\n",
    "        print(row)"
   ]
  },
  {
   "cell_type": "code",
   "execution_count": 39,
   "id": "decent-female",
   "metadata": {},
   "outputs": [
    {
     "data": {
      "text/plain": [
       "<cassandra.cluster.ResultSet at 0x7f8c77a075b0>"
      ]
     },
     "execution_count": 39,
     "metadata": {},
     "output_type": "execute_result"
    }
   ],
   "source": [
    "from cassandra.cluster import Cluster\n",
    "\n",
    "# Викоритовуючи  cqlsh, створити три Keyspace з replication factor 1, 2, 3\n",
    "cluster = Cluster()\n",
    "session = cluster.connect()\n",
    "\n",
    "session.execute(\"\"\"\n",
    "    CREATE KEYSPACE IF NOT EXISTS replicas1\n",
    "    WITH replication = {\n",
    "      'class' : 'SimpleStrategy',\n",
    "      'replication_factor' : 1\n",
    "    };\n",
    "\"\"\")\n",
    "\n",
    "session.execute(\"\"\"\n",
    "    CREATE KEYSPACE IF NOT EXISTS replicas2\n",
    "    WITH replication = {\n",
    "      'class' : 'SimpleStrategy',\n",
    "      'replication_factor' : 2\n",
    "    };\n",
    "\"\"\")\n",
    "\n",
    "session.execute(\"\"\"\n",
    "    CREATE KEYSPACE IF NOT EXISTS replicas3\n",
    "    WITH replication = {\n",
    "      'class' : 'SimpleStrategy',\n",
    "      'replication_factor' : 3\n",
    "    };\n",
    "\"\"\")"
   ]
  },
  {
   "cell_type": "code",
   "execution_count": 46,
   "id": "f7bfecfb",
   "metadata": {},
   "outputs": [
    {
     "data": {
      "text/plain": [
       "<cassandra.cluster.ResultSet at 0x7f8c77c31af0>"
      ]
     },
     "execution_count": 46,
     "metadata": {},
     "output_type": "execute_result"
    }
   ],
   "source": [
    "# В кожному з кейспейсів створити таблиці \n",
    "\n",
    "session.set_keyspace(\"replicas1\")\n",
    "\n",
    "session.execute(\"\"\"\n",
    "        CREATE TABLE IF NOT EXISTS products (\n",
    "        category text,\n",
    "        producer text,\n",
    "        price int,\n",
    "        name text,\n",
    "        PRIMARY KEY (category, producer, name)\n",
    "        )\n",
    "    \"\"\")\n",
    "\n",
    "session.set_keyspace(\"replicas2\")\n",
    "\n",
    "session.execute(\"\"\"\n",
    "        CREATE TABLE IF NOT EXISTS products (\n",
    "        category text,\n",
    "        producer text,\n",
    "        price int,\n",
    "        name text,\n",
    "        PRIMARY KEY (category, producer, name)\n",
    "        )\n",
    "    \"\"\")\n",
    "\n",
    "session.set_keyspace(\"replicas3\")\n",
    "\n",
    "session.execute(\"\"\"\n",
    "        CREATE TABLE IF NOT EXISTS products (\n",
    "        category text,\n",
    "        producer text,\n",
    "        price int,\n",
    "        name text,\n",
    "        PRIMARY KEY (category, producer, name)\n",
    "        )\n",
    "    \"\"\")"
   ]
  },
  {
   "cell_type": "code",
   "execution_count": 57,
   "id": "ca618d8e",
   "metadata": {},
   "outputs": [
    {
     "name": "stdout",
     "output_type": "stream",
     "text": [
      "Row(category='phone', producer='Apple', name='iPhone3', price=500)\n"
     ]
    }
   ],
   "source": [
    "# Спробуйте писати і читати на / та з різних нод.\n",
    "from cassandra.cluster import ExecutionProfile, EXEC_PROFILE_DEFAULT, ConsistencyLevel\n",
    "\n",
    "profile = ExecutionProfile(\n",
    "    consistency_level=ConsistencyLevel.ONE, # by default in this drive consistency_level is LOCAL_ONE\n",
    ")\n",
    "cluster = Cluster(execution_profiles={EXEC_PROFILE_DEFAULT: profile})\n",
    "session = cluster.connect()\n",
    "\n",
    "session.set_keyspace(\"replicas1\")\n",
    "\n",
    "session.execute(\"\"\"\n",
    "        INSERT INTO products (category, producer, price, name) \n",
    "        VALUES ('phone', 'Apple', 500, 'iPhone3')\n",
    "    \"\"\")\n",
    "\n",
    "print_result_set(\n",
    "    session.execute(\"\"\"\n",
    "        SELECT * FROM products\n",
    "    \"\"\")\n",
    ")"
   ]
  },
  {
   "cell_type": "code",
   "execution_count": 43,
   "id": "cf07721f",
   "metadata": {},
   "outputs": [
    {
     "name": "stdout",
     "output_type": "stream",
     "text": [
      "Row(category='phone', producer='Apple', name='iPhone4', price=600)\n"
     ]
    }
   ],
   "source": [
    "cluster = Cluster(port=9142)\n",
    "session2 = cluster.connect()\n",
    "\n",
    "session2.set_keyspace(\"replicas2\")\n",
    "\n",
    "session2.execute(\"\"\"\n",
    "        INSERT INTO products (category, producer, price, name) \n",
    "        VALUES ('phone', 'Apple', 600, 'iPhone4')\n",
    "    \"\"\")\n",
    "\n",
    "print_result_set(\n",
    "    session2.execute(\"\"\"\n",
    "        SELECT * FROM products\n",
    "    \"\"\")\n",
    ")"
   ]
  },
  {
   "cell_type": "code",
   "execution_count": 48,
   "id": "442b4de4",
   "metadata": {},
   "outputs": [
    {
     "name": "stdout",
     "output_type": "stream",
     "text": [
      "Row(category='phone', producer='Apple', name='iPhone5', price=700)\n"
     ]
    }
   ],
   "source": [
    "cluster = Cluster(port=9242)\n",
    "session3 = cluster.connect()\n",
    "\n",
    "session3.set_keyspace(\"replicas3\")\n",
    "\n",
    "session3.execute(\"\"\"\n",
    "        INSERT INTO products (category, producer, price, name) \n",
    "        VALUES ('phone', 'Apple', 700, 'iPhone5')\n",
    "    \"\"\")\n",
    "\n",
    "print_result_set(\n",
    "    session3.execute(\"\"\"\n",
    "        SELECT * FROM products\n",
    "    \"\"\")\n",
    ")"
   ]
  },
  {
   "cell_type": "code",
   "execution_count": 92,
   "id": "21e35b5b",
   "metadata": {},
   "outputs": [
    {
     "name": "stdout",
     "output_type": "stream",
     "text": [
      "Error response from daemon: Container 67444437e9e02d8f050775b7e1c36d8baf4c0b1828291f78c6a367095bcb71bc is not running\n",
      "**\n",
      "Datacenter: datacenter1\n",
      "=======================\n",
      "Status=Up/Down\n",
      "|/ State=Normal/Leaving/Joining/Moving\n",
      "--  Address     Load       Tokens       Owns (effective)  Host ID                               Rack\n",
      "UN  172.17.0.3  265.34 KiB  256          64.3%             0d8112de-d0c4-48d8-9ad7-bfc3ba4906b2  rack1\n",
      "DN  172.17.0.2  255.95 KiB  256          67.6%             8eb626dc-9dbb-4229-a5bc-00e19582a9fc  rack1\n",
      "Datacenter: datacenter2\n",
      "=======================\n",
      "Status=Up/Down\n",
      "|/ State=Normal/Leaving/Joining/Moving\n",
      "--  Address     Load       Tokens       Owns (effective)  Host ID                               Rack\n",
      "DN  172.17.0.4  257.27 KiB  256          68.1%             e1a37d3f-7cb1-4050-a3b7-52b8f9f6d462  rack1\n",
      "\n",
      "**\n",
      "Datacenter: datacenter1\n",
      "=======================\n",
      "Status=Up/Down\n",
      "|/ State=Normal/Leaving/Joining/Moving\n",
      "--  Address     Load       Tokens       Owns (effective)  Host ID                               Rack\n",
      "DN  172.17.0.3  190.2 KiB  256          100.0%            0d8112de-d0c4-48d8-9ad7-bfc3ba4906b2  rack1\n",
      "DN  172.17.0.2  255.95 KiB  256          100.0%            8eb626dc-9dbb-4229-a5bc-00e19582a9fc  rack1\n",
      "Datacenter: datacenter2\n",
      "=======================\n",
      "Status=Up/Down\n",
      "|/ State=Normal/Leaving/Joining/Moving\n",
      "--  Address     Load       Tokens       Owns (effective)  Host ID                               Rack\n",
      "UN  172.17.0.4  332.16 KiB  256          100.0%            e1a37d3f-7cb1-4050-a3b7-52b8f9f6d462  rack1\n",
      "\n"
     ]
    }
   ],
   "source": [
    "# Вставте дані в створені таблиці і подивіться на їх розподіл по вузлах кластера (для кожного з кейспесов - nodetool status)\n",
    "!docker exec -ti cas1 nodetool status replicas1\n",
    "print(\"**\")\n",
    "!docker exec -ti cas2 nodetool status replicas2\n",
    "print(\"**\")\n",
    "!docker exec -ti cas3 nodetool status replicas3"
   ]
  },
  {
   "cell_type": "code",
   "execution_count": 66,
   "id": "9e123d40",
   "metadata": {},
   "outputs": [
    {
     "name": "stdout",
     "output_type": "stream",
     "text": [
      "172.17.0.3\n",
      "**\n",
      "172.17.0.3\n",
      "172.17.0.2\n",
      "**\n",
      "172.17.0.3\n",
      "172.17.0.2\n",
      "172.17.0.4\n"
     ]
    }
   ],
   "source": [
    "# Для якогось запису з кожного з кейспейсу виведіть ноди на яких зберігаються дані\n",
    "!docker exec -ti cas3 nodetool getendpoints replicas1 products phone\n",
    "print(\"**\")\n",
    "!docker exec -ti cas3 nodetool getendpoints replicas2 products phone\n",
    "print(\"**\")\n",
    "!docker exec -ti cas3 nodetool getendpoints replicas3 products phone\n"
   ]
  },
  {
   "cell_type": "code",
   "execution_count": 100,
   "id": "4bb6e5bd",
   "metadata": {},
   "outputs": [
    {
     "name": "stdout",
     "output_type": "stream",
     "text": [
      "cas1\r\n"
     ]
    }
   ],
   "source": [
    "# Відключиіть одну з нод. \n",
    "# Для кожного з кейспейсів визначить з якими рівнями consistency можемо читати та писати, і які з них забезпечують strong consistency \n",
    "!docker stop cas1"
   ]
  },
  {
   "cell_type": "code",
   "execution_count": 95,
   "id": "0ec60afd",
   "metadata": {},
   "outputs": [
    {
     "name": "stdout",
     "output_type": "stream",
     "text": [
      "('Unable to complete the operation against any hosts', {<Host: 127.0.0.1:9242 datacenter2>: Unavailable('Error from server: code=1000 [Unavailable exception] message=\"Cannot achieve consistency level ONE\" info={\\'consistency\\': \\'ONE\\', \\'required_replicas\\': 1, \\'alive_replicas\\': 0}')})\n",
      "Row(category='phone', producer='Apple', name='iPhone4', price=600)\n",
      "Row(category='TV', producer='Samsung', name='SmartTV', price=500)\n",
      "Row(category='phone', producer='Apple', name='iPhone5', price=700)\n",
      "Row(category='TV', producer='Samsung', name='SmartTV', price=500)\n"
     ]
    }
   ],
   "source": [
    "profile = ExecutionProfile(\n",
    "    consistency_level=ConsistencyLevel.ONE,\n",
    ")\n",
    "cluster = Cluster(execution_profiles={EXEC_PROFILE_DEFAULT: profile}, port=9242)\n",
    "session_one = cluster.connect()\n",
    "\n",
    "session_one.set_keyspace(\"replicas1\")\n",
    "\n",
    "try:\n",
    "    session_one.execute(\"\"\"\n",
    "            INSERT INTO products (category, producer, price, name) \n",
    "            VALUES ('TV', 'Samsung', 500, 'SmartTV')\n",
    "        \"\"\")\n",
    "\n",
    "    \n",
    "    print_result_set(\n",
    "        session_one.execute(\"\"\"\n",
    "            SELECT * FROM products\n",
    "        \"\"\")\n",
    "    )\n",
    "except cassandra.cluster.NoHostAvailable as e:\n",
    "    print(e)\n",
    "    \n",
    "session_one.set_keyspace(\"replicas2\")\n",
    "\n",
    "\n",
    "session_one.execute(\"\"\"\n",
    "        INSERT INTO products (category, producer, price, name) \n",
    "        VALUES ('TV', 'Samsung', 500, 'SmartTV')\n",
    "    \"\"\")\n",
    "\n",
    "print_result_set(\n",
    "    session_one.execute(\"\"\"\n",
    "        SELECT * FROM products\n",
    "    \"\"\")\n",
    ")\n",
    "    \n",
    "session_one.set_keyspace(\"replicas3\")\n",
    "\n",
    "session_one.execute(\"\"\"\n",
    "        INSERT INTO products (category, producer, price, name) \n",
    "        VALUES ('TV', 'Samsung', 500, 'SmartTV')\n",
    "    \"\"\")\n",
    "\n",
    "print_result_set(\n",
    "    session_one.execute(\"\"\"\n",
    "        SELECT * FROM products\n",
    "    \"\"\")\n",
    ")\n",
    "\n",
    "# we can use consistent level one only for all keyspaces, but here we have error because all date for keyspace with \n",
    "# replication 1 is located on cas1 node"
   ]
  },
  {
   "cell_type": "code",
   "execution_count": 102,
   "id": "7b38de83",
   "metadata": {},
   "outputs": [
    {
     "name": "stdout",
     "output_type": "stream",
     "text": [
      "('Unable to complete the operation against any hosts', {<Host: 127.0.0.1:9242 datacenter2>: Unavailable('Error from server: code=1000 [Unavailable exception] message=\"Cannot achieve consistency level TWO\" info={\\'consistency\\': \\'TWO\\', \\'required_replicas\\': 2, \\'alive_replicas\\': 0}')})\n",
      "('Unable to complete the operation against any hosts', {<Host: 127.0.0.1:9242 datacenter2>: Unavailable('Error from server: code=1000 [Unavailable exception] message=\"Cannot achieve consistency level TWO\" info={\\'consistency\\': \\'TWO\\', \\'required_replicas\\': 2, \\'alive_replicas\\': 1}')})\n",
      "('Unable to complete the operation against any hosts', {<Host: 127.0.0.1:9242 datacenter2>: Unavailable('Error from server: code=1000 [Unavailable exception] message=\"Cannot achieve consistency level TWO\" info={\\'consistency\\': \\'TWO\\', \\'required_replicas\\': 2, \\'alive_replicas\\': 1}')})\n",
      "Row(category='phone', producer='Apple', name='iPhone5', price=700)\n",
      "Row(category='TV', producer='Samsung', name='SmartTV', price=500)\n",
      "Row(category='Player', producer='Samsung', name='MP3', price=500)\n"
     ]
    }
   ],
   "source": [
    "profile = ExecutionProfile(\n",
    "    consistency_level=ConsistencyLevel.TWO,\n",
    ")\n",
    "cluster = Cluster(execution_profiles={EXEC_PROFILE_DEFAULT: profile}, port=9242)\n",
    "session_two = cluster.connect()\n",
    "\n",
    "session_two.set_keyspace(\"replicas1\")\n",
    "\n",
    "try:\n",
    "    session_two.execute(\"\"\"\n",
    "            INSERT INTO products (category, producer, price, name) \n",
    "            VALUES ('Player', 'Samsung', 500, 'MP3')\n",
    "        \"\"\")\n",
    "\n",
    "    \n",
    "    print_result_set(\n",
    "        session_two.execute(\"\"\"\n",
    "            SELECT * FROM products\n",
    "        \"\"\")\n",
    "    )\n",
    "except cassandra.cluster.NoHostAvailable as e:\n",
    "    print(e)\n",
    "    \n",
    "session_two.set_keyspace(\"replicas2\")\n",
    "\n",
    "try:\n",
    "    session_two.execute(\"\"\"\n",
    "            INSERT INTO products (category, producer, price, name) \n",
    "            VALUES ('Player', 'Samsung', 500, 'MP3')\n",
    "        \"\"\")\n",
    "except cassandra.cluster.NoHostAvailable as e:\n",
    "    print(e)\n",
    "\n",
    "try:\n",
    "    print_result_set(\n",
    "        session_two.execute(\"\"\"\n",
    "            SELECT * FROM products\n",
    "        \"\"\")\n",
    "    )\n",
    "except cassandra.cluster.NoHostAvailable as e:\n",
    "    print(e)\n",
    "    \n",
    "session_two.set_keyspace(\"replicas3\")\n",
    "\n",
    "\n",
    "session_two.execute(\"\"\"\n",
    "        INSERT INTO products (category, producer, price, name) \n",
    "        VALUES ('Player', 'Samsung', 500, 'MP3')\n",
    "    \"\"\")\n",
    "    \n",
    "print_result_set(\n",
    "    session_two.execute(\"\"\"\n",
    "        SELECT * FROM products\n",
    "    \"\"\")\n",
    ")\n",
    "\n",
    "# here we can use for keyspace with 3 replicas consistent level 2 and it will be strong consisstent for this keyspace\n",
    "# no need to check consistent leve three as it will be faileing each time, because we have only two nodes right now"
   ]
  },
  {
   "cell_type": "code",
   "execution_count": 103,
   "id": "b65d219c",
   "metadata": {},
   "outputs": [
    {
     "name": "stdout",
     "output_type": "stream",
     "text": [
      "cas1\n",
      "NETWORK ID     NAME               DRIVER    SCOPE\n",
      "a14d4743f4d7   bridge             bridge    local\n",
      "d29f175808e6   host               host      local\n",
      "ca94d58fbaa1   my-mongo-cluster   bridge    local\n",
      "4eef352b9566   none               null      local\n"
     ]
    }
   ],
   "source": [
    "# Зробить так щоб три ноди працювали, але не бачили одна одну по мережі (відключити зв'язок між ними)\n",
    "!docker start cas1\n",
    "!docker network ls"
   ]
  },
  {
   "cell_type": "code",
   "execution_count": 105,
   "id": "e821f83a",
   "metadata": {},
   "outputs": [
    {
     "name": "stdout",
     "output_type": "stream",
     "text": [
      "8d6b3ac3b8de6af8a0fe0d9d2551ff54e00da9a6530380343ab0128ad4e5f639\r\n"
     ]
    }
   ],
   "source": [
    "!docker network create cas1"
   ]
  },
  {
   "cell_type": "code",
   "execution_count": 106,
   "id": "dfc7bd06",
   "metadata": {},
   "outputs": [
    {
     "name": "stdout",
     "output_type": "stream",
     "text": [
      "24ff336700a71b79538f4c0be1e083ab049f084f51b32058c24dfdb7e0e2be78\r\n"
     ]
    }
   ],
   "source": [
    "!docker network create cas2"
   ]
  },
  {
   "cell_type": "code",
   "execution_count": 104,
   "id": "2295cec2",
   "metadata": {},
   "outputs": [
    {
     "name": "stdout",
     "output_type": "stream",
     "text": [
      "[\r\n",
      "    {\r\n",
      "        \"Name\": \"bridge\",\r\n",
      "        \"Id\": \"a14d4743f4d7bac4d3e8c11af468c317da9de8e1c7e5b4efbb719389cca21464\",\r\n",
      "        \"Created\": \"2021-04-04T14:44:30.759562629Z\",\r\n",
      "        \"Scope\": \"local\",\r\n",
      "        \"Driver\": \"bridge\",\r\n",
      "        \"EnableIPv6\": false,\r\n",
      "        \"IPAM\": {\r\n",
      "            \"Driver\": \"default\",\r\n",
      "            \"Options\": null,\r\n",
      "            \"Config\": [\r\n",
      "                {\r\n",
      "                    \"Subnet\": \"172.17.0.0/16\",\r\n",
      "                    \"Gateway\": \"172.17.0.1\"\r\n",
      "                }\r\n",
      "            ]\r\n",
      "        },\r\n",
      "        \"Internal\": false,\r\n",
      "        \"Attachable\": false,\r\n",
      "        \"Ingress\": false,\r\n",
      "        \"ConfigFrom\": {\r\n",
      "            \"Network\": \"\"\r\n",
      "        },\r\n",
      "        \"ConfigOnly\": false,\r\n",
      "        \"Containers\": {\r\n",
      "            \"41dfc795a1b5505a6a60a530c3de67350120501845217d77a8856ebaa39f9670\": {\r\n",
      "                \"Name\": \"cas3\",\r\n",
      "                \"EndpointID\": \"916b70de43e70a12268bc98056e7950d29ade6cb92d57f1fdf06808b69e445f3\",\r\n",
      "                \"MacAddress\": \"02:42:ac:11:00:04\",\r\n",
      "                \"IPv4Address\": \"172.17.0.4/16\",\r\n",
      "                \"IPv6Address\": \"\"\r\n",
      "            },\r\n",
      "            \"67444437e9e02d8f050775b7e1c36d8baf4c0b1828291f78c6a367095bcb71bc\": {\r\n",
      "                \"Name\": \"cas1\",\r\n",
      "                \"EndpointID\": \"b270a9a4fa3aede2ddc672bb16d079fc3f599a0058adeecb481273dd5d759c49\",\r\n",
      "                \"MacAddress\": \"02:42:ac:11:00:02\",\r\n",
      "                \"IPv4Address\": \"172.17.0.2/16\",\r\n",
      "                \"IPv6Address\": \"\"\r\n",
      "            },\r\n",
      "            \"bafeb6446dfd66b0ef94378eb6bbfc3aeddc3f34d42df3dc206c6aa97fd85261\": {\r\n",
      "                \"Name\": \"cas2\",\r\n",
      "                \"EndpointID\": \"20502de5796e16cc558fb9423b85318880bc1f00a878e8f13f178b542b0475f5\",\r\n",
      "                \"MacAddress\": \"02:42:ac:11:00:03\",\r\n",
      "                \"IPv4Address\": \"172.17.0.3/16\",\r\n",
      "                \"IPv6Address\": \"\"\r\n",
      "            }\r\n",
      "        },\r\n",
      "        \"Options\": {\r\n",
      "            \"com.docker.network.bridge.default_bridge\": \"true\",\r\n",
      "            \"com.docker.network.bridge.enable_icc\": \"true\",\r\n",
      "            \"com.docker.network.bridge.enable_ip_masquerade\": \"true\",\r\n",
      "            \"com.docker.network.bridge.host_binding_ipv4\": \"0.0.0.0\",\r\n",
      "            \"com.docker.network.bridge.name\": \"docker0\",\r\n",
      "            \"com.docker.network.driver.mtu\": \"1500\"\r\n",
      "        },\r\n",
      "        \"Labels\": {}\r\n",
      "    }\r\n",
      "]\r\n"
     ]
    }
   ],
   "source": [
    "!docker network inspect bridge"
   ]
  },
  {
   "cell_type": "code",
   "execution_count": 124,
   "id": "fbedc5f7",
   "metadata": {},
   "outputs": [],
   "source": [
    "!docker network disconnect bridge cas1\n",
    "!docker network disconnect bridge cas2"
   ]
  },
  {
   "cell_type": "code",
   "execution_count": 125,
   "id": "1d32387b",
   "metadata": {},
   "outputs": [],
   "source": [
    "!docker network connect cas1 cas1\n",
    "!docker network connect cas2 cas2"
   ]
  },
  {
   "cell_type": "code",
   "execution_count": 126,
   "id": "db1eed3f",
   "metadata": {},
   "outputs": [
    {
     "name": "stdout",
     "output_type": "stream",
     "text": [
      "[\r\n",
      "    {\r\n",
      "        \"Name\": \"bridge\",\r\n",
      "        \"Id\": \"a14d4743f4d7bac4d3e8c11af468c317da9de8e1c7e5b4efbb719389cca21464\",\r\n",
      "        \"Created\": \"2021-04-04T14:44:30.759562629Z\",\r\n",
      "        \"Scope\": \"local\",\r\n",
      "        \"Driver\": \"bridge\",\r\n",
      "        \"EnableIPv6\": false,\r\n",
      "        \"IPAM\": {\r\n",
      "            \"Driver\": \"default\",\r\n",
      "            \"Options\": null,\r\n",
      "            \"Config\": [\r\n",
      "                {\r\n",
      "                    \"Subnet\": \"172.17.0.0/16\",\r\n",
      "                    \"Gateway\": \"172.17.0.1\"\r\n",
      "                }\r\n",
      "            ]\r\n",
      "        },\r\n",
      "        \"Internal\": false,\r\n",
      "        \"Attachable\": false,\r\n",
      "        \"Ingress\": false,\r\n",
      "        \"ConfigFrom\": {\r\n",
      "            \"Network\": \"\"\r\n",
      "        },\r\n",
      "        \"ConfigOnly\": false,\r\n",
      "        \"Containers\": {\r\n",
      "            \"41dfc795a1b5505a6a60a530c3de67350120501845217d77a8856ebaa39f9670\": {\r\n",
      "                \"Name\": \"cas3\",\r\n",
      "                \"EndpointID\": \"916b70de43e70a12268bc98056e7950d29ade6cb92d57f1fdf06808b69e445f3\",\r\n",
      "                \"MacAddress\": \"02:42:ac:11:00:04\",\r\n",
      "                \"IPv4Address\": \"172.17.0.4/16\",\r\n",
      "                \"IPv6Address\": \"\"\r\n",
      "            }\r\n",
      "        },\r\n",
      "        \"Options\": {\r\n",
      "            \"com.docker.network.bridge.default_bridge\": \"true\",\r\n",
      "            \"com.docker.network.bridge.enable_icc\": \"true\",\r\n",
      "            \"com.docker.network.bridge.enable_ip_masquerade\": \"true\",\r\n",
      "            \"com.docker.network.bridge.host_binding_ipv4\": \"0.0.0.0\",\r\n",
      "            \"com.docker.network.bridge.name\": \"docker0\",\r\n",
      "            \"com.docker.network.driver.mtu\": \"1500\"\r\n",
      "        },\r\n",
      "        \"Labels\": {}\r\n",
      "    }\r\n",
      "]\r\n"
     ]
    }
   ],
   "source": [
    "!docker network inspect bridge"
   ]
  },
  {
   "cell_type": "code",
   "execution_count": 127,
   "id": "6897f21e",
   "metadata": {},
   "outputs": [
    {
     "name": "stdout",
     "output_type": "stream",
     "text": [
      "[\r\n",
      "    {\r\n",
      "        \"Name\": \"cas1\",\r\n",
      "        \"Id\": \"8d6b3ac3b8de6af8a0fe0d9d2551ff54e00da9a6530380343ab0128ad4e5f639\",\r\n",
      "        \"Created\": \"2021-04-04T17:53:18.0473522Z\",\r\n",
      "        \"Scope\": \"local\",\r\n",
      "        \"Driver\": \"bridge\",\r\n",
      "        \"EnableIPv6\": false,\r\n",
      "        \"IPAM\": {\r\n",
      "            \"Driver\": \"default\",\r\n",
      "            \"Options\": {},\r\n",
      "            \"Config\": [\r\n",
      "                {\r\n",
      "                    \"Subnet\": \"172.19.0.0/16\",\r\n",
      "                    \"Gateway\": \"172.19.0.1\"\r\n",
      "                }\r\n",
      "            ]\r\n",
      "        },\r\n",
      "        \"Internal\": false,\r\n",
      "        \"Attachable\": false,\r\n",
      "        \"Ingress\": false,\r\n",
      "        \"ConfigFrom\": {\r\n",
      "            \"Network\": \"\"\r\n",
      "        },\r\n",
      "        \"ConfigOnly\": false,\r\n",
      "        \"Containers\": {\r\n",
      "            \"67444437e9e02d8f050775b7e1c36d8baf4c0b1828291f78c6a367095bcb71bc\": {\r\n",
      "                \"Name\": \"cas1\",\r\n",
      "                \"EndpointID\": \"5f823917d60b7ecce5ac36ce591ddaf653985abb04f7a2c404befa3c8cfbfcdc\",\r\n",
      "                \"MacAddress\": \"02:42:ac:13:00:02\",\r\n",
      "                \"IPv4Address\": \"172.19.0.2/16\",\r\n",
      "                \"IPv6Address\": \"\"\r\n",
      "            }\r\n",
      "        },\r\n",
      "        \"Options\": {},\r\n",
      "        \"Labels\": {}\r\n",
      "    }\r\n",
      "]\r\n"
     ]
    }
   ],
   "source": [
    "!docker network inspect cas1"
   ]
  },
  {
   "cell_type": "code",
   "execution_count": 128,
   "id": "960f8f36",
   "metadata": {},
   "outputs": [
    {
     "name": "stdout",
     "output_type": "stream",
     "text": [
      "[\r\n",
      "    {\r\n",
      "        \"Name\": \"cas2\",\r\n",
      "        \"Id\": \"24ff336700a71b79538f4c0be1e083ab049f084f51b32058c24dfdb7e0e2be78\",\r\n",
      "        \"Created\": \"2021-04-04T17:53:27.4798283Z\",\r\n",
      "        \"Scope\": \"local\",\r\n",
      "        \"Driver\": \"bridge\",\r\n",
      "        \"EnableIPv6\": false,\r\n",
      "        \"IPAM\": {\r\n",
      "            \"Driver\": \"default\",\r\n",
      "            \"Options\": {},\r\n",
      "            \"Config\": [\r\n",
      "                {\r\n",
      "                    \"Subnet\": \"172.20.0.0/16\",\r\n",
      "                    \"Gateway\": \"172.20.0.1\"\r\n",
      "                }\r\n",
      "            ]\r\n",
      "        },\r\n",
      "        \"Internal\": false,\r\n",
      "        \"Attachable\": false,\r\n",
      "        \"Ingress\": false,\r\n",
      "        \"ConfigFrom\": {\r\n",
      "            \"Network\": \"\"\r\n",
      "        },\r\n",
      "        \"ConfigOnly\": false,\r\n",
      "        \"Containers\": {\r\n",
      "            \"bafeb6446dfd66b0ef94378eb6bbfc3aeddc3f34d42df3dc206c6aa97fd85261\": {\r\n",
      "                \"Name\": \"cas2\",\r\n",
      "                \"EndpointID\": \"9341524a0267f9fa09391cb6ec6d322889718873862383887dfdd3cccbb3d55f\",\r\n",
      "                \"MacAddress\": \"02:42:ac:14:00:02\",\r\n",
      "                \"IPv4Address\": \"172.20.0.2/16\",\r\n",
      "                \"IPv6Address\": \"\"\r\n",
      "            }\r\n",
      "        },\r\n",
      "        \"Options\": {},\r\n",
      "        \"Labels\": {}\r\n",
      "    }\r\n",
      "]\r\n"
     ]
    }
   ],
   "source": [
    "!docker network inspect cas2"
   ]
  },
  {
   "cell_type": "code",
   "execution_count": 129,
   "id": "1a30814d",
   "metadata": {},
   "outputs": [
    {
     "data": {
      "text/plain": [
       "<cassandra.cluster.ResultSet at 0x7f8c7956c7c0>"
      ]
     },
     "execution_count": 129,
     "metadata": {},
     "output_type": "execute_result"
    }
   ],
   "source": [
    "# Для кейспейсу з replication factor 3 задайте рівень consistency рівним 1. \n",
    "# Виконайте запис одного й того самого значення, з однаковим primary key, але різними іншими значенням на кожну з нод \n",
    "# (тобто створіть конфлікт)\n",
    "\n",
    "profile = ExecutionProfile(\n",
    "    consistency_level=ConsistencyLevel.ONE,\n",
    ")\n",
    "cluster = Cluster(execution_profiles={EXEC_PROFILE_DEFAULT: profile}, port=9042)\n",
    "session = cluster.connect()\n",
    "\n",
    "session.set_keyspace(\"replicas3\")\n",
    "\n",
    "session.execute(\"\"\"\n",
    "        INSERT INTO products (category, producer, price, name) \n",
    "        VALUES ('phone', 'Apple', 700, 'iPhone11')\n",
    "    \"\"\")"
   ]
  },
  {
   "cell_type": "code",
   "execution_count": 130,
   "id": "9696a83d",
   "metadata": {},
   "outputs": [
    {
     "data": {
      "text/plain": [
       "<cassandra.cluster.ResultSet at 0x7f8c795efd60>"
      ]
     },
     "execution_count": 130,
     "metadata": {},
     "output_type": "execute_result"
    }
   ],
   "source": [
    "profile = ExecutionProfile(\n",
    "    consistency_level=ConsistencyLevel.ONE,\n",
    ")\n",
    "cluster = Cluster(execution_profiles={EXEC_PROFILE_DEFAULT: profile}, port=9142)\n",
    "session = cluster.connect()\n",
    "\n",
    "session.set_keyspace(\"replicas3\")\n",
    "\n",
    "session.execute(\"\"\"\n",
    "        INSERT INTO products (category, producer, price, name) \n",
    "        VALUES ('phone', 'Apple', 800, 'iPhone11')\n",
    "    \"\"\")"
   ]
  },
  {
   "cell_type": "code",
   "execution_count": 131,
   "id": "b7e041c4",
   "metadata": {},
   "outputs": [
    {
     "data": {
      "text/plain": [
       "<cassandra.cluster.ResultSet at 0x7f8c79678ee0>"
      ]
     },
     "execution_count": 131,
     "metadata": {},
     "output_type": "execute_result"
    }
   ],
   "source": [
    "profile = ExecutionProfile(\n",
    "    consistency_level=ConsistencyLevel.ONE,\n",
    ")\n",
    "cluster = Cluster(execution_profiles={EXEC_PROFILE_DEFAULT: profile}, port=9242)\n",
    "session = cluster.connect()\n",
    "\n",
    "session.set_keyspace(\"replicas3\")\n",
    "\n",
    "session.execute(\"\"\"\n",
    "        INSERT INTO products (category, producer, price, name) \n",
    "        VALUES ('phone', 'Apple', 900, 'iPhone11')\n",
    "    \"\"\")"
   ]
  },
  {
   "cell_type": "code",
   "execution_count": 132,
   "id": "d64f1e72",
   "metadata": {},
   "outputs": [
    {
     "name": "stdout",
     "output_type": "stream",
     "text": [
      "[\r\n",
      "    {\r\n",
      "        \"Name\": \"bridge\",\r\n",
      "        \"Id\": \"a14d4743f4d7bac4d3e8c11af468c317da9de8e1c7e5b4efbb719389cca21464\",\r\n",
      "        \"Created\": \"2021-04-04T14:44:30.759562629Z\",\r\n",
      "        \"Scope\": \"local\",\r\n",
      "        \"Driver\": \"bridge\",\r\n",
      "        \"EnableIPv6\": false,\r\n",
      "        \"IPAM\": {\r\n",
      "            \"Driver\": \"default\",\r\n",
      "            \"Options\": null,\r\n",
      "            \"Config\": [\r\n",
      "                {\r\n",
      "                    \"Subnet\": \"172.17.0.0/16\",\r\n",
      "                    \"Gateway\": \"172.17.0.1\"\r\n",
      "                }\r\n",
      "            ]\r\n",
      "        },\r\n",
      "        \"Internal\": false,\r\n",
      "        \"Attachable\": false,\r\n",
      "        \"Ingress\": false,\r\n",
      "        \"ConfigFrom\": {\r\n",
      "            \"Network\": \"\"\r\n",
      "        },\r\n",
      "        \"ConfigOnly\": false,\r\n",
      "        \"Containers\": {\r\n",
      "            \"41dfc795a1b5505a6a60a530c3de67350120501845217d77a8856ebaa39f9670\": {\r\n",
      "                \"Name\": \"cas3\",\r\n",
      "                \"EndpointID\": \"916b70de43e70a12268bc98056e7950d29ade6cb92d57f1fdf06808b69e445f3\",\r\n",
      "                \"MacAddress\": \"02:42:ac:11:00:04\",\r\n",
      "                \"IPv4Address\": \"172.17.0.4/16\",\r\n",
      "                \"IPv6Address\": \"\"\r\n",
      "            },\r\n",
      "            \"67444437e9e02d8f050775b7e1c36d8baf4c0b1828291f78c6a367095bcb71bc\": {\r\n",
      "                \"Name\": \"cas1\",\r\n",
      "                \"EndpointID\": \"bd68e556c8dab86f6a4df8170593d0dff6e3377670a0a4cdd4e8bf193bbc8e7d\",\r\n",
      "                \"MacAddress\": \"02:42:ac:11:00:02\",\r\n",
      "                \"IPv4Address\": \"172.17.0.2/16\",\r\n",
      "                \"IPv6Address\": \"\"\r\n",
      "            },\r\n",
      "            \"bafeb6446dfd66b0ef94378eb6bbfc3aeddc3f34d42df3dc206c6aa97fd85261\": {\r\n",
      "                \"Name\": \"cas2\",\r\n",
      "                \"EndpointID\": \"9f09de2433cd2f5e78ef696b13a93f0c2e312d03fcaa9287c9522ea29267461d\",\r\n",
      "                \"MacAddress\": \"02:42:ac:11:00:03\",\r\n",
      "                \"IPv4Address\": \"172.17.0.3/16\",\r\n",
      "                \"IPv6Address\": \"\"\r\n",
      "            }\r\n",
      "        },\r\n",
      "        \"Options\": {\r\n",
      "            \"com.docker.network.bridge.default_bridge\": \"true\",\r\n",
      "            \"com.docker.network.bridge.enable_icc\": \"true\",\r\n",
      "            \"com.docker.network.bridge.enable_ip_masquerade\": \"true\",\r\n",
      "            \"com.docker.network.bridge.host_binding_ipv4\": \"0.0.0.0\",\r\n",
      "            \"com.docker.network.bridge.name\": \"docker0\",\r\n",
      "            \"com.docker.network.driver.mtu\": \"1500\"\r\n",
      "        },\r\n",
      "        \"Labels\": {}\r\n",
      "    }\r\n",
      "]\r\n"
     ]
    }
   ],
   "source": [
    "# Об’єднайте ноди в кластер і визначте яке значення було прийнято кластером та за яким принципом\n",
    "!docker network disconnect cas1 cas1\n",
    "!docker network disconnect cas2 cas2\n",
    "\n",
    "!docker network connect bridge cas1\n",
    "!docker network connect bridge cas2\n",
    "\n",
    "!docker network inspect bridge"
   ]
  },
  {
   "cell_type": "code",
   "execution_count": 133,
   "id": "1fca78a6",
   "metadata": {},
   "outputs": [
    {
     "name": "stdout",
     "output_type": "stream",
     "text": [
      "Row(category='phone', producer='Apple', name='iPhone11', price=900)\n"
     ]
    }
   ],
   "source": [
    "print_result_set(session.execute(\"\"\"\n",
    "        SELECT * from products WHERE\n",
    "        category='phone' and producer='Apple' and name='iPhone11'\n",
    "    \"\"\"))"
   ]
  },
  {
   "cell_type": "code",
   "execution_count": null,
   "id": "77dcab78",
   "metadata": {},
   "outputs": [],
   "source": [
    "# write with  last timestamp won!"
   ]
  },
  {
   "cell_type": "code",
   "execution_count": 134,
   "id": "6e6bd556",
   "metadata": {},
   "outputs": [],
   "source": [
    "# Перевірте поведінку lightweight transactions для попередніх пунктів у розділеному на три частини кластері \n",
    "!docker network disconnect bridge cas1\n",
    "!docker network disconnect bridge cas2\n",
    "\n",
    "!docker network connect cas1 cas1\n",
    "!docker network connect cas2 cas2"
   ]
  },
  {
   "cell_type": "code",
   "execution_count": 139,
   "id": "2460c59f",
   "metadata": {},
   "outputs": [
    {
     "ename": "NoHostAvailable",
     "evalue": "('Unable to complete the operation against any hosts', {<Host: 127.0.0.1:9042 datacenter1>: Unavailable('Error from server: code=1000 [Unavailable exception] message=\"Cannot achieve consistency level SERIAL\" info={\\'consistency\\': \\'SERIAL\\', \\'required_replicas\\': 2, \\'alive_replicas\\': 1}')})",
     "output_type": "error",
     "traceback": [
      "\u001b[0;31m---------------------------------------------------------------------------\u001b[0m",
      "\u001b[0;31mNoHostAvailable\u001b[0m                           Traceback (most recent call last)",
      "\u001b[0;32m<ipython-input-139-780876a47be3>\u001b[0m in \u001b[0;36m<module>\u001b[0;34m\u001b[0m\n\u001b[1;32m      7\u001b[0m \u001b[0msession\u001b[0m\u001b[0;34m.\u001b[0m\u001b[0mset_keyspace\u001b[0m\u001b[0;34m(\u001b[0m\u001b[0;34m\"replicas3\"\u001b[0m\u001b[0;34m)\u001b[0m\u001b[0;34m\u001b[0m\u001b[0;34m\u001b[0m\u001b[0m\n\u001b[1;32m      8\u001b[0m \u001b[0;34m\u001b[0m\u001b[0m\n\u001b[0;32m----> 9\u001b[0;31m session.execute(\"\"\"\n\u001b[0m\u001b[1;32m     10\u001b[0m         \u001b[0mINSERT\u001b[0m \u001b[0mINTO\u001b[0m \u001b[0mproducts\u001b[0m \u001b[0;34m(\u001b[0m\u001b[0mcategory\u001b[0m\u001b[0;34m,\u001b[0m \u001b[0mproducer\u001b[0m\u001b[0;34m,\u001b[0m \u001b[0mprice\u001b[0m\u001b[0;34m,\u001b[0m \u001b[0mname\u001b[0m\u001b[0;34m)\u001b[0m\u001b[0;34m\u001b[0m\u001b[0;34m\u001b[0m\u001b[0m\n\u001b[1;32m     11\u001b[0m         \u001b[0mVALUES\u001b[0m \u001b[0;34m(\u001b[0m\u001b[0;34m'phone'\u001b[0m\u001b[0;34m,\u001b[0m \u001b[0;34m'Apple'\u001b[0m\u001b[0;34m,\u001b[0m \u001b[0;36m700\u001b[0m\u001b[0;34m,\u001b[0m \u001b[0;34m'iPhone12'\u001b[0m\u001b[0;34m)\u001b[0m\u001b[0;34m\u001b[0m\u001b[0;34m\u001b[0m\u001b[0m\n",
      "\u001b[0;32m/Library/Frameworks/Python.framework/Versions/3.9/lib/python3.9/site-packages/cassandra/cluster.cpython-39-darwin.so\u001b[0m in \u001b[0;36mcassandra.cluster.Session.execute\u001b[0;34m()\u001b[0m\n",
      "\u001b[0;32m/Library/Frameworks/Python.framework/Versions/3.9/lib/python3.9/site-packages/cassandra/cluster.cpython-39-darwin.so\u001b[0m in \u001b[0;36mcassandra.cluster.ResponseFuture.result\u001b[0;34m()\u001b[0m\n",
      "\u001b[0;31mNoHostAvailable\u001b[0m: ('Unable to complete the operation against any hosts', {<Host: 127.0.0.1:9042 datacenter1>: Unavailable('Error from server: code=1000 [Unavailable exception] message=\"Cannot achieve consistency level SERIAL\" info={\\'consistency\\': \\'SERIAL\\', \\'required_replicas\\': 2, \\'alive_replicas\\': 1}')})"
     ]
    }
   ],
   "source": [
    "profile = ExecutionProfile(\n",
    "    consistency_level=ConsistencyLevel.ONE,\n",
    ")\n",
    "cluster = Cluster(execution_profiles={EXEC_PROFILE_DEFAULT: profile}, port=9042)\n",
    "session = cluster.connect()\n",
    "\n",
    "session.set_keyspace(\"replicas3\")\n",
    "\n",
    "session.execute(\"\"\"\n",
    "        INSERT INTO products (category, producer, price, name) \n",
    "        VALUES ('phone', 'Apple', 700, 'iPhone12')\n",
    "        IF NOT EXISTS;\n",
    "    \"\"\")"
   ]
  },
  {
   "cell_type": "code",
   "execution_count": null,
   "id": "f05b4389",
   "metadata": {},
   "outputs": [],
   "source": [
    "# Ми не можем виконати таку транзакцію так як неможливо досягнути рівня SERIAL який є аналогією QUORUM при реплікації 3"
   ]
  }
 ],
 "metadata": {
  "kernelspec": {
   "display_name": "Python 3",
   "language": "python",
   "name": "python3"
  },
  "language_info": {
   "codemirror_mode": {
    "name": "ipython",
    "version": 3
   },
   "file_extension": ".py",
   "mimetype": "text/x-python",
   "name": "python",
   "nbconvert_exporter": "python",
   "pygments_lexer": "ipython3",
   "version": "3.9.3"
  }
 },
 "nbformat": 4,
 "nbformat_minor": 5
}
