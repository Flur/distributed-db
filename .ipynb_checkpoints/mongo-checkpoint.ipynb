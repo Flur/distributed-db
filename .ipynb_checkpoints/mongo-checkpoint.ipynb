{
 "cells": [
  {
   "cell_type": "code",
   "execution_count": 4,
   "id": "ready-pastor",
   "metadata": {},
   "outputs": [],
   "source": [
    "import pymongo\n",
    "import pprint\n",
    "from bson.json_util import dumps\n",
    "\n",
    "client = pymongo.MongoClient(\"mongodb://127.0.0.1:27017\")\n",
    "db = client[\"distributed-db\"]"
   ]
  },
  {
   "cell_type": "code",
   "execution_count": null,
   "id": "widespread-recipe",
   "metadata": {},
   "outputs": [],
   "source": [
    "# 1\n",
    "db.products.insert_many([\n",
    "    {\n",
    "        \"category\" : \"Phone\",\n",
    "        \"model\" : \"iPhone 6\",\n",
    "        \"producer\" : \"Apple\",\n",
    "        \"price\" : 600\n",
    "    },\n",
    "    {\n",
    "        \"category\" : \"TV\",\n",
    "        \"model\" : \"SmartTV\",\n",
    "        \"producer\" : \"Samsung\",\n",
    "        \"diagonal\": \"100\",\n",
    "        \"price\" : 6000\n",
    "    },\n",
    "    {\n",
    "        \"category\" : \"Watch\",\n",
    "        \"model\" : \"IWatch\",\n",
    "        \"producer\" : \"Apple\",\n",
    "        \"size\": \"m\",\n",
    "        \"price\" : 300,\n",
    "    },\n",
    "    {\n",
    "        \"category\" : \"Speaker\",\n",
    "        \"model\" : \"Sound2\",\n",
    "        \"producer\" : \"JBL\",\n",
    "        \"Color\": \"Red\",\n",
    "        \"price\" : 100,\n",
    "    },\n",
    "    {\n",
    "        \"category\" : \"Laptop\",\n",
    "        \"model\" : \"Super\",\n",
    "        \"producer\" : \"Dell\",\n",
    "        \"CPU\": \"i100\",\n",
    "        \"GPU\": \"NVidia\",\n",
    "        \"price\" : 1000,\n",
    "    },\n",
    "])"
   ]
  },
  {
   "cell_type": "code",
   "execution_count": 6,
   "id": "sweet-leader",
   "metadata": {},
   "outputs": [
    {
     "name": "stdout",
     "output_type": "stream",
     "text": [
      "('[{\"_id\": {\"$oid\": \"6037664a70e0ebcf347bdc48\"}, \"category\": \"Phone\", \"model\": '\n",
      " '\"iPhone 6\", \"producer\": \"Apple\", \"price\": 600}, {\"_id\": {\"$oid\": '\n",
      " '\"6037a7043ec68f6db3aadfe1\"}, \"category\": \"Phone\", \"model\": \"iPhone 6\", '\n",
      " '\"producer\": \"Apple\", \"price\": 600}, {\"_id\": {\"$oid\": '\n",
      " '\"6037a7043ec68f6db3aadfe2\"}, \"category\": \"TV\", \"model\": \"SmartTV\", '\n",
      " '\"producer\": \"Samsung\", \"diagonal\": \"100\", \"price\": 6000}, {\"_id\": {\"$oid\": '\n",
      " '\"6037a7043ec68f6db3aadfe3\"}, \"category\": \"Watch\", \"model\": \"IWatch\", '\n",
      " '\"producer\": \"Apple\", \"size\": \"m\", \"price\": 300}, {\"_id\": {\"$oid\": '\n",
      " '\"6037a7043ec68f6db3aadfe4\"}, \"category\": \"Speaker\", \"model\": \"Sound2\", '\n",
      " '\"producer\": \"JBL\", \"Color\": \"Red\", \"price\": 100}, {\"_id\": {\"$oid\": '\n",
      " '\"6037a7043ec68f6db3aadfe5\"}, \"category\": \"Laptop\", \"model\": \"Super\", '\n",
      " '\"producer\": \"Dell\", \"CPU\": \"i100\", \"GPU\": \"NVidia\", \"price\": 1000}]')\n"
     ]
    }
   ],
   "source": [
    "# 2 Напишіть запит, який виводіть усі товари (відображення у JSON)\n",
    "cursor = db.products.find({})\n",
    "\n",
    "list_cur = list(cursor)\n",
    "json_data = dumps(list_cur)\n",
    "\n",
    "pprint.pprint(json_data)"
   ]
  },
  {
   "cell_type": "code",
   "execution_count": 8,
   "id": "fuzzy-connecticut",
   "metadata": {},
   "outputs": [
    {
     "name": "stdout",
     "output_type": "stream",
     "text": [
      "1\n"
     ]
    }
   ],
   "source": [
    "# 3 Підрахуйте скільки товарів у певної категорії\n",
    "count = db.products.count_documents({\"category\": \"Laptop\"})\n",
    "pprint.pprint(count)"
   ]
  },
  {
   "cell_type": "code",
   "execution_count": 9,
   "id": "light-meeting",
   "metadata": {},
   "outputs": [
    {
     "name": "stdout",
     "output_type": "stream",
     "text": [
      "5\n"
     ]
    }
   ],
   "source": [
    "# 4 Підрахуйте скільки є різних категорій товарів\n",
    "count = len(db.products.distinct(\"category\"))\n",
    "pprint.pprint(count)"
   ]
  },
  {
   "cell_type": "code",
   "execution_count": null,
   "id": "removable-luxembourg",
   "metadata": {},
   "outputs": [],
   "source": [
    "# 5\n",
    "def distinct_producers():\n",
    "    count = db.products.distinct(\"producer\")\n",
    "    pprint.pprint(count)\n",
    "\n",
    "# 6\n",
    "def queries_\n",
    "# get_all_products()\n",
    "# count_items_by_category(\"Phone\")\n",
    "distinct_producers()"
   ]
  }
 ],
 "metadata": {
  "kernelspec": {
   "display_name": "Python 3",
   "language": "python",
   "name": "python3"
  },
  "language_info": {
   "codemirror_mode": {
    "name": "ipython",
    "version": 3
   },
   "file_extension": ".py",
   "mimetype": "text/x-python",
   "name": "python",
   "nbconvert_exporter": "python",
   "pygments_lexer": "ipython3",
   "version": "3.8.8"
  }
 },
 "nbformat": 4,
 "nbformat_minor": 5
}
